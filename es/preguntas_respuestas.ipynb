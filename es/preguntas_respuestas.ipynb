{
 "cells": [
  {
   "cell_type": "markdown",
   "id": "f3da24b2",
   "metadata": {
    "toc": true
   },
   "source": [
    "<h1>Table of Contents<span class=\"tocSkip\"></span></h1>\n",
    "<div class=\"toc\"><ul class=\"toc-item\"><li><span><a href=\"#Superanfitriones??\" data-toc-modified-id=\"Superanfitriones??-1\"><span class=\"toc-item-num\">1&nbsp;&nbsp;</span>Superanfitriones??</a></span></li><li><span><a href=\"#Valores-nulos-tratamiento\" data-toc-modified-id=\"Valores-nulos-tratamiento-2\"><span class=\"toc-item-num\">2&nbsp;&nbsp;</span>Valores nulos tratamiento</a></span></li><li><span><a href=\"#Lugares-disponibles??\" data-toc-modified-id=\"Lugares-disponibles??-3\"><span class=\"toc-item-num\">3&nbsp;&nbsp;</span>Lugares disponibles??</a></span></li><li><span><a href=\"#Duplicados\" data-toc-modified-id=\"Duplicados-4\"><span class=\"toc-item-num\">4&nbsp;&nbsp;</span>Duplicados</a></span></li><li><span><a href=\"#Availability-365\" data-toc-modified-id=\"Availability-365-5\"><span class=\"toc-item-num\">5&nbsp;&nbsp;</span>Availability 365</a></span></li><li><span><a href=\"#Precio-barrios\" data-toc-modified-id=\"Precio-barrios-6\"><span class=\"toc-item-num\">6&nbsp;&nbsp;</span>Precio barrios</a></span></li><li><span><a href=\"#Reseñas\" data-toc-modified-id=\"Reseñas-7\"><span class=\"toc-item-num\">7&nbsp;&nbsp;</span>Reseñas</a></span></li><li><span><a href=\"#service-fee\" data-toc-modified-id=\"service-fee-8\"><span class=\"toc-item-num\">8&nbsp;&nbsp;</span>service fee</a></span></li></ul></div>"
   ]
  },
  {
   "cell_type": "code",
   "execution_count": 1,
   "id": "09f35776",
   "metadata": {},
   "outputs": [],
   "source": [
    "import pandas as pd"
   ]
  },
  {
   "cell_type": "code",
   "execution_count": 2,
   "id": "90cc6649",
   "metadata": {},
   "outputs": [],
   "source": [
    "df = pd.read_csv(\"../datasets/airbnb_sample.csv\")"
   ]
  },
  {
   "cell_type": "markdown",
   "id": "5515e0fb",
   "metadata": {},
   "source": [
    "### Superanfitriones??"
   ]
  },
  {
   "cell_type": "markdown",
   "id": "11437771",
   "metadata": {},
   "source": [
    "No tengo claro como distinguir a los superanfitriones con los datos que tenemos"
   ]
  },
  {
   "cell_type": "markdown",
   "id": "d44a9bdd",
   "metadata": {},
   "source": [
    "Normal, no parece posible. Puedes responder esta otra pregunta:\n",
    "\n",
    "- Pregunta 5c.2: Crea una visualización para comparar, al menos, dos variables diferentes entre anfitriones verificados y no verificados."
   ]
  },
  {
   "cell_type": "code",
   "execution_count": 4,
   "id": "5ac0e559",
   "metadata": {},
   "outputs": [
    {
     "data": {
      "text/plain": [
       "(10000, 26)"
      ]
     },
     "execution_count": 4,
     "metadata": {},
     "output_type": "execute_result"
    }
   ],
   "source": [
    "df.shape"
   ]
  },
  {
   "cell_type": "code",
   "execution_count": 5,
   "id": "f8af4ca2",
   "metadata": {},
   "outputs": [
    {
     "data": {
      "text/plain": [
       "Index(['id', 'NAME', 'host id', 'host_identity_verified', 'host name',\n",
       "       'neighbourhood group', 'neighbourhood', 'lat', 'long', 'country',\n",
       "       'country code', 'instant_bookable', 'cancellation_policy', 'room type',\n",
       "       'Construction year', 'price', 'service fee', 'minimum nights',\n",
       "       'number of reviews', 'last review', 'reviews per month',\n",
       "       'review rate number', 'calculated host listings count',\n",
       "       'availability 365', 'house_rules', 'license'],\n",
       "      dtype='object')"
      ]
     },
     "execution_count": 5,
     "metadata": {},
     "output_type": "execute_result"
    }
   ],
   "source": [
    "df.columns"
   ]
  },
  {
   "cell_type": "code",
   "execution_count": 6,
   "id": "27b9a1fc",
   "metadata": {},
   "outputs": [
    {
     "data": {
      "text/plain": [
       "verified       5031\n",
       "unconfirmed    4931\n",
       "Name: host_identity_verified, dtype: int64"
      ]
     },
     "execution_count": 6,
     "metadata": {},
     "output_type": "execute_result"
    }
   ],
   "source": [
    "df.host_identity_verified.value_counts()"
   ]
  },
  {
   "cell_type": "code",
   "execution_count": null,
   "id": "3839547d",
   "metadata": {},
   "outputs": [],
   "source": []
  },
  {
   "cell_type": "markdown",
   "id": "9b693dcf",
   "metadata": {},
   "source": [
    "### Valores nulos tratamiento"
   ]
  },
  {
   "cell_type": "markdown",
   "id": "0fe96eba",
   "metadata": {},
   "source": [
    "Cuando piden imputar valores que consideremos, habría que completar todos los nulos? Puedo eliminar las filas nulas en \"last review\" o \"number of reviews\"?"
   ]
  },
  {
   "cell_type": "markdown",
   "id": "1acc9cec",
   "metadata": {},
   "source": [
    "Hazlo a tu elección. Puedes elegir 2 o 3 columnas e imputarlas según tu criterio:\n",
    " - fill rápido\n",
    " - media / mediana\n",
    " - media / mediana por categoría\n",
    " - ..."
   ]
  },
  {
   "cell_type": "code",
   "execution_count": null,
   "id": "c705faeb",
   "metadata": {},
   "outputs": [],
   "source": []
  },
  {
   "cell_type": "markdown",
   "id": "5e2cafb1",
   "metadata": {},
   "source": [
    "### Lugares disponibles??"
   ]
  },
  {
   "cell_type": "markdown",
   "id": "bb59edd4",
   "metadata": {},
   "source": [
    "Crea un gráfico de líneas para mostrar la cantidad total de lugares disponibles al año.\n",
    "\n",
    "Normal, no parece posible. Puedes responder esta otra pregunta:\n",
    "\n",
    "- Pregunta 5b.2: Crea un gráfico de líneas para mostrar la cantidad total de casas construidas cada año."
   ]
  },
  {
   "cell_type": "code",
   "execution_count": null,
   "id": "e591a1f6",
   "metadata": {},
   "outputs": [],
   "source": []
  },
  {
   "cell_type": "markdown",
   "id": "b2ecd9f9",
   "metadata": {},
   "source": [
    "### Duplicados"
   ]
  },
  {
   "cell_type": "markdown",
   "id": "b3f995e7",
   "metadata": {},
   "source": [
    "Al buscar duplicados, hay 3615 filas completamente duplicadas. Debería eliminar sólo los que están completamente duplicados o los que tengan \"NAME\" duplicados?"
   ]
  },
  {
   "cell_type": "markdown",
   "id": "26fe17be",
   "metadata": {},
   "source": [
    "A tu criterio, puede ser:\n",
    " - totalmente iguales\n",
    " - NAME, aunque parece muy poco conservador\n",
    " - lat, long\n",
    " - ..."
   ]
  },
  {
   "cell_type": "code",
   "execution_count": 21,
   "id": "fdb7752a",
   "metadata": {},
   "outputs": [
    {
     "data": {
      "text/plain": [
       "4"
      ]
     },
     "execution_count": 21,
     "metadata": {},
     "output_type": "execute_result"
    }
   ],
   "source": [
    "df.duplicated().sum()"
   ]
  },
  {
   "cell_type": "code",
   "execution_count": 33,
   "id": "512c2a98",
   "metadata": {},
   "outputs": [
    {
     "data": {
      "text/plain": [
       "431"
      ]
     },
     "execution_count": 33,
     "metadata": {},
     "output_type": "execute_result"
    }
   ],
   "source": [
    "df.duplicated([\"lat\", \"long\"]).sum()"
   ]
  },
  {
   "cell_type": "code",
   "execution_count": null,
   "id": "b84668f9",
   "metadata": {},
   "outputs": [],
   "source": []
  },
  {
   "cell_type": "markdown",
   "id": "a710043e",
   "metadata": {},
   "source": [
    "### Availability 365"
   ]
  },
  {
   "cell_type": "markdown",
   "id": "f46580a6",
   "metadata": {},
   "source": [
    "Algunos comentarios"
   ]
  },
  {
   "cell_type": "code",
   "execution_count": 51,
   "id": "4afefa4f",
   "metadata": {},
   "outputs": [
    {
     "data": {
      "text/plain": [
       "34"
      ]
     },
     "execution_count": 51,
     "metadata": {},
     "output_type": "execute_result"
    }
   ],
   "source": [
    "(df[\"availability 365\"] < 0).sum()"
   ]
  },
  {
   "cell_type": "code",
   "execution_count": 54,
   "id": "e715b8c1",
   "metadata": {},
   "outputs": [],
   "source": [
    "df.loc[df[\"availability 365\"] < 0, \"availability 365\"] = 0"
   ]
  },
  {
   "cell_type": "code",
   "execution_count": 56,
   "id": "c8809400",
   "metadata": {},
   "outputs": [],
   "source": [
    "df.loc[df[\"availability 365\"] >365, \"availability 365\"] = 365"
   ]
  },
  {
   "cell_type": "code",
   "execution_count": 55,
   "id": "c82ffa58",
   "metadata": {},
   "outputs": [
    {
     "data": {
      "text/plain": [
       "0"
      ]
     },
     "execution_count": 55,
     "metadata": {},
     "output_type": "execute_result"
    }
   ],
   "source": [
    "(df[\"availability 365\"] < 0).sum()"
   ]
  },
  {
   "cell_type": "code",
   "execution_count": 57,
   "id": "aca3dd8b",
   "metadata": {},
   "outputs": [
    {
     "data": {
      "text/plain": [
       "0"
      ]
     },
     "execution_count": 57,
     "metadata": {},
     "output_type": "execute_result"
    }
   ],
   "source": [
    "(df[\"availability 365\"] > 365).sum()"
   ]
  },
  {
   "cell_type": "code",
   "execution_count": 59,
   "id": "02642d4f",
   "metadata": {},
   "outputs": [],
   "source": [
    "import seaborn as sns"
   ]
  },
  {
   "cell_type": "code",
   "execution_count": 69,
   "id": "dcf21930",
   "metadata": {},
   "outputs": [],
   "source": [
    "df[\"av_group\"] = pd.cut(df[\"availability 365\"], [-1, 100, 200, 300, 400])"
   ]
  },
  {
   "cell_type": "code",
   "execution_count": 75,
   "id": "b8acc5fe",
   "metadata": {},
   "outputs": [
    {
     "data": {
      "text/html": [
       "<div>\n",
       "<style scoped>\n",
       "    .dataframe tbody tr th:only-of-type {\n",
       "        vertical-align: middle;\n",
       "    }\n",
       "\n",
       "    .dataframe tbody tr th {\n",
       "        vertical-align: top;\n",
       "    }\n",
       "\n",
       "    .dataframe thead th {\n",
       "        text-align: right;\n",
       "    }\n",
       "</style>\n",
       "<table border=\"1\" class=\"dataframe\">\n",
       "  <thead>\n",
       "    <tr style=\"text-align: right;\">\n",
       "      <th></th>\n",
       "      <th>availability 365</th>\n",
       "      <th>av_group</th>\n",
       "    </tr>\n",
       "  </thead>\n",
       "  <tbody>\n",
       "    <tr>\n",
       "      <th>0</th>\n",
       "      <td>0.0</td>\n",
       "      <td>(-1, 100]</td>\n",
       "    </tr>\n",
       "    <tr>\n",
       "      <th>1</th>\n",
       "      <td>52.0</td>\n",
       "      <td>(-1, 100]</td>\n",
       "    </tr>\n",
       "    <tr>\n",
       "      <th>2</th>\n",
       "      <td>116.0</td>\n",
       "      <td>(100, 200]</td>\n",
       "    </tr>\n",
       "    <tr>\n",
       "      <th>3</th>\n",
       "      <td>365.0</td>\n",
       "      <td>(300, 400]</td>\n",
       "    </tr>\n",
       "    <tr>\n",
       "      <th>4</th>\n",
       "      <td>29.0</td>\n",
       "      <td>(-1, 100]</td>\n",
       "    </tr>\n",
       "  </tbody>\n",
       "</table>\n",
       "</div>"
      ],
      "text/plain": [
       "   availability 365    av_group\n",
       "0               0.0   (-1, 100]\n",
       "1              52.0   (-1, 100]\n",
       "2             116.0  (100, 200]\n",
       "3             365.0  (300, 400]\n",
       "4              29.0   (-1, 100]"
      ]
     },
     "execution_count": 75,
     "metadata": {},
     "output_type": "execute_result"
    }
   ],
   "source": [
    "df[[\"availability 365\", \"av_group\"]].head()"
   ]
  },
  {
   "cell_type": "code",
   "execution_count": 72,
   "id": "eafa60dc",
   "metadata": {},
   "outputs": [
    {
     "data": {
      "text/plain": [
       "(-1, 100]     5038\n",
       "(100, 200]    1546\n",
       "(200, 300]    1335\n",
       "(300, 400]    2042\n",
       "Name: av_group, dtype: int64"
      ]
     },
     "execution_count": 72,
     "metadata": {},
     "output_type": "execute_result"
    }
   ],
   "source": [
    "df.av_group.value_counts().sort_index()"
   ]
  },
  {
   "cell_type": "code",
   "execution_count": 74,
   "id": "77574b08",
   "metadata": {},
   "outputs": [
    {
     "data": {
      "text/plain": [
       "<AxesSubplot: xlabel='av_group', ylabel='count'>"
      ]
     },
     "execution_count": 74,
     "metadata": {},
     "output_type": "execute_result"
    },
    {
     "data": {
      "image/png": "[encoded data removed]",
      "text/plain": [
       "<Figure size 640x480 with 1 Axes>"
      ]
     },
     "metadata": {},
     "output_type": "display_data"
    }
   ],
   "source": [
    "sns.countplot(x=df.av_group, palette=\"Blues\")"
   ]
  },
  {
   "cell_type": "code",
   "execution_count": null,
   "id": "a995f8eb",
   "metadata": {},
   "outputs": [],
   "source": []
  },
  {
   "cell_type": "markdown",
   "id": "3f721ecd",
   "metadata": {},
   "source": [
    "### Precio barrios"
   ]
  },
  {
   "cell_type": "markdown",
   "id": "40c6fc92",
   "metadata": {},
   "source": [
    "En la consigna 4.3, enumerar precio por barrio. Se refiere a enumerar todos los barrios y poner su precio medio o hacer sólo un precio medio de todos los barrios?"
   ]
  },
  {
   "cell_type": "markdown",
   "id": "c8df6432",
   "metadata": {},
   "source": [
    "A lo primero. La solución es: un número para cada barrio"
   ]
  },
  {
   "cell_type": "markdown",
   "id": "4c5829c3",
   "metadata": {},
   "source": [
    "Puedes tener que usar `df.price.str.replace(...)`"
   ]
  },
  {
   "cell_type": "code",
   "execution_count": null,
   "id": "8c6fc1e2",
   "metadata": {},
   "outputs": [],
   "source": []
  },
  {
   "cell_type": "markdown",
   "id": "55094425",
   "metadata": {},
   "source": [
    "La pregunta dice: Enumera el precio medio por barrio y señala cuál es el conjunto de barrios más caro para alquilar. ¿Enumere es crear un rank?"
   ]
  },
  {
   "cell_type": "markdown",
   "id": "a93d61f0",
   "metadata": {},
   "source": [
    "4.3 pide enumerar y sacar el top, osea que sí, rankear"
   ]
  },
  {
   "cell_type": "markdown",
   "id": "ed01d38d",
   "metadata": {},
   "source": [
    "### Reseñas"
   ]
  },
  {
   "cell_type": "markdown",
   "id": "6d2f252b",
   "metadata": {},
   "source": [
    "¿Podrías explicar esto? Crea una visualización de datos de tu elección utilizando una de las columnas de reseñas, de forma aislada o en combinación con otra columna"
   ]
  },
  {
   "cell_type": "code",
   "execution_count": 77,
   "id": "73a95dca",
   "metadata": {},
   "outputs": [
    {
     "data": {
      "text/plain": [
       "['number of reviews', 'last review', 'reviews per month', 'review rate number']"
      ]
     },
     "execution_count": 77,
     "metadata": {},
     "output_type": "execute_result"
    }
   ],
   "source": [
    "[col for col in df.columns if \"rev\" in col]"
   ]
  },
  {
   "cell_type": "code",
   "execution_count": 78,
   "id": "779fabdf",
   "metadata": {},
   "outputs": [
    {
     "data": {
      "text/html": [
       "<div>\n",
       "<style scoped>\n",
       "    .dataframe tbody tr th:only-of-type {\n",
       "        vertical-align: middle;\n",
       "    }\n",
       "\n",
       "    .dataframe tbody tr th {\n",
       "        vertical-align: top;\n",
       "    }\n",
       "\n",
       "    .dataframe thead th {\n",
       "        text-align: right;\n",
       "    }\n",
       "</style>\n",
       "<table border=\"1\" class=\"dataframe\">\n",
       "  <thead>\n",
       "    <tr style=\"text-align: right;\">\n",
       "      <th></th>\n",
       "      <th>number of reviews</th>\n",
       "      <th>last review</th>\n",
       "      <th>reviews per month</th>\n",
       "      <th>review rate number</th>\n",
       "    </tr>\n",
       "  </thead>\n",
       "  <tbody>\n",
       "    <tr>\n",
       "      <th>0</th>\n",
       "      <td>9.0</td>\n",
       "      <td>5/20/2018</td>\n",
       "      <td>0.39</td>\n",
       "      <td>5.0</td>\n",
       "    </tr>\n",
       "    <tr>\n",
       "      <th>1</th>\n",
       "      <td>6.0</td>\n",
       "      <td>6/30/2019</td>\n",
       "      <td>0.23</td>\n",
       "      <td>5.0</td>\n",
       "    </tr>\n",
       "    <tr>\n",
       "      <th>2</th>\n",
       "      <td>0.0</td>\n",
       "      <td>NaN</td>\n",
       "      <td>NaN</td>\n",
       "      <td>1.0</td>\n",
       "    </tr>\n",
       "    <tr>\n",
       "      <th>3</th>\n",
       "      <td>0.0</td>\n",
       "      <td>NaN</td>\n",
       "      <td>NaN</td>\n",
       "      <td>3.0</td>\n",
       "    </tr>\n",
       "    <tr>\n",
       "      <th>4</th>\n",
       "      <td>2.0</td>\n",
       "      <td>6/29/2019</td>\n",
       "      <td>2.00</td>\n",
       "      <td>4.0</td>\n",
       "    </tr>\n",
       "    <tr>\n",
       "      <th>...</th>\n",
       "      <td>...</td>\n",
       "      <td>...</td>\n",
       "      <td>...</td>\n",
       "      <td>...</td>\n",
       "    </tr>\n",
       "    <tr>\n",
       "      <th>9995</th>\n",
       "      <td>0.0</td>\n",
       "      <td>NaN</td>\n",
       "      <td>NaN</td>\n",
       "      <td>2.0</td>\n",
       "    </tr>\n",
       "    <tr>\n",
       "      <th>9996</th>\n",
       "      <td>0.0</td>\n",
       "      <td>NaN</td>\n",
       "      <td>NaN</td>\n",
       "      <td>2.0</td>\n",
       "    </tr>\n",
       "    <tr>\n",
       "      <th>9997</th>\n",
       "      <td>15.0</td>\n",
       "      <td>6/27/2019</td>\n",
       "      <td>1.77</td>\n",
       "      <td>3.0</td>\n",
       "    </tr>\n",
       "    <tr>\n",
       "      <th>9998</th>\n",
       "      <td>9.0</td>\n",
       "      <td>2/28/2022</td>\n",
       "      <td>2.43</td>\n",
       "      <td>2.0</td>\n",
       "    </tr>\n",
       "    <tr>\n",
       "      <th>9999</th>\n",
       "      <td>1.0</td>\n",
       "      <td>7/7/2019</td>\n",
       "      <td>1.00</td>\n",
       "      <td>2.0</td>\n",
       "    </tr>\n",
       "  </tbody>\n",
       "</table>\n",
       "<p>10000 rows × 4 columns</p>\n",
       "</div>"
      ],
      "text/plain": [
       "      number of reviews last review  reviews per month  review rate number\n",
       "0                   9.0   5/20/2018               0.39                 5.0\n",
       "1                   6.0   6/30/2019               0.23                 5.0\n",
       "2                   0.0         NaN                NaN                 1.0\n",
       "3                   0.0         NaN                NaN                 3.0\n",
       "4                   2.0   6/29/2019               2.00                 4.0\n",
       "...                 ...         ...                ...                 ...\n",
       "9995                0.0         NaN                NaN                 2.0\n",
       "9996                0.0         NaN                NaN                 2.0\n",
       "9997               15.0   6/27/2019               1.77                 3.0\n",
       "9998                9.0   2/28/2022               2.43                 2.0\n",
       "9999                1.0    7/7/2019               1.00                 2.0\n",
       "\n",
       "[10000 rows x 4 columns]"
      ]
     },
     "execution_count": 78,
     "metadata": {},
     "output_type": "execute_result"
    }
   ],
   "source": [
    "df[['number of reviews', 'last review', 'reviews per month', 'review rate number']]"
   ]
  },
  {
   "cell_type": "code",
   "execution_count": 81,
   "id": "0742d1cf",
   "metadata": {},
   "outputs": [
    {
     "data": {
      "text/plain": [
       "<AxesSubplot: xlabel='review rate number', ylabel='count'>"
      ]
     },
     "execution_count": 81,
     "metadata": {},
     "output_type": "execute_result"
    },
    {
     "data": {
      "image/png": "[encoded data removed]",
      "text/plain": [
       "<Figure size 640x480 with 1 Axes>"
      ]
     },
     "metadata": {},
     "output_type": "display_data"
    }
   ],
   "source": [
    "sns.countplot(x=df[\"review rate number\"], palette=\"Greens\")"
   ]
  },
  {
   "cell_type": "code",
   "execution_count": 82,
   "id": "fd457448",
   "metadata": {},
   "outputs": [
    {
     "data": {
      "text/plain": [
       "<AxesSubplot: xlabel='review rate number', ylabel='count'>"
      ]
     },
     "execution_count": 82,
     "metadata": {},
     "output_type": "execute_result"
    },
    {
     "data": {
      "image/png": "[encoded data removed]",
      "text/plain": [
       "<Figure size 640x480 with 1 Axes>"
      ]
     },
     "metadata": {},
     "output_type": "display_data"
    }
   ],
   "source": [
    "sns.countplot(x=df[\"review rate number\"], hue=df.host_identity_verified, palette=\"Greens\")"
   ]
  },
  {
   "cell_type": "code",
   "execution_count": 87,
   "id": "a34f4ed7",
   "metadata": {},
   "outputs": [
    {
     "data": {
      "text/plain": [
       "neighbourhood group\n",
       "manhatan         3.00\n",
       "Staten Island    3.19\n",
       "Manhattan        3.26\n",
       "Brooklyn         3.27\n",
       "Bronx            3.28\n",
       "Queens           3.36\n",
       "Name: review rate number, dtype: float64"
      ]
     },
     "execution_count": 87,
     "metadata": {},
     "output_type": "execute_result"
    }
   ],
   "source": [
    "df.groupby(\"neighbourhood group\")[\"review rate number\"].mean().round(2).sort_values()"
   ]
  },
  {
   "cell_type": "code",
   "execution_count": null,
   "id": "0f0a7f0b",
   "metadata": {},
   "outputs": [],
   "source": []
  },
  {
   "cell_type": "markdown",
   "id": "378dfeb0",
   "metadata": {},
   "source": [
    "### service fee"
   ]
  },
  {
   "cell_type": "markdown",
   "id": "8b68cb62",
   "metadata": {},
   "source": [
    "La columna \"service_fee\" es tarifa de limpieza?"
   ]
  },
  {
   "cell_type": "markdown",
   "id": "e68878f2",
   "metadata": {},
   "source": [
    "Sí"
   ]
  },
  {
   "cell_type": "code",
   "execution_count": null,
   "id": "f257ec77",
   "metadata": {},
   "outputs": [],
   "source": []
  }
 ],
 "metadata": {
  "kernelspec": {
   "display_name": "Python 3 (ipykernel)",
   "language": "python",
   "name": "python3"
  },
  "language_info": {
   "codemirror_mode": {
    "name": "ipython",
    "version": 3
   },
   "file_extension": ".py",
   "mimetype": "text/x-python",
   "name": "python",
   "nbconvert_exporter": "python",
   "pygments_lexer": "ipython3",
   "version": "3.10.6"
  },
  "toc": {
   "base_numbering": 1,
   "nav_menu": {},
   "number_sections": true,
   "sideBar": true,
   "skip_h1_title": true,
   "title_cell": "Table of Contents",
   "title_sidebar": "Contents",
   "toc_cell": true,
   "toc_position": {},
   "toc_section_display": true,
   "toc_window_display": false
  },
  "varInspector": {
   "cols": {
    "lenName": 16,
    "lenType": 16,
    "lenVar": 40
   },
   "kernels_config": {
    "python": {
     "delete_cmd_postfix": "",
     "delete_cmd_prefix": "del ",
     "library": "var_list.py",
     "varRefreshCmd": "print(var_dic_list())"
    },
    "r": {
     "delete_cmd_postfix": ") ",
     "delete_cmd_prefix": "rm(",
     "library": "var_list.r",
     "varRefreshCmd": "cat(var_dic_list()) "
    }
   },
   "types_to_exclude": [
    "module",
    "function",
    "builtin_function_or_method",
    "instance",
    "_Feature"
   ],
   "window_display": false
  }
 },
 "nbformat": 4,
 "nbformat_minor": 5
}
