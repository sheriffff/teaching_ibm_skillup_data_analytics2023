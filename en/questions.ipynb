{
 "cells": [
  {
   "cell_type": "markdown",
   "id": "8d1faaa4",
   "metadata": {
    "toc": true
   },
   "source": [
    "<h1>Table of Contents<span class=\"tocSkip\"></span></h1>\n",
    "<div class=\"toc\"><ul class=\"toc-item\"><li><span><a href=\"#5c.2,-verified-vs-unverified\" data-toc-modified-id=\"5c.2,-verified-vs-unverified-1\"><span class=\"toc-item-num\">1&nbsp;&nbsp;</span>5c.2, verified vs unverified</a></span></li><li><span><a href=\"#5b.2-Linechart\" data-toc-modified-id=\"5b.2-Linechart-2\"><span class=\"toc-item-num\">2&nbsp;&nbsp;</span>5b.2 Linechart</a></span></li><li><span><a href=\"#Duplication,-to-csv\" data-toc-modified-id=\"Duplication,-to-csv-3\"><span class=\"toc-item-num\">3&nbsp;&nbsp;</span>Duplication, to csv</a></span></li><li><span><a href=\"#Dropping-nan-from-unique-list\" data-toc-modified-id=\"Dropping-nan-from-unique-list-4\"><span class=\"toc-item-num\">4&nbsp;&nbsp;</span>Dropping nan from unique list</a></span></li><li><span><a href=\"#read-csv-from-URL\" data-toc-modified-id=\"read-csv-from-URL-5\"><span class=\"toc-item-num\">5&nbsp;&nbsp;</span>read csv from URL</a></span></li><li><span><a href=\"#Expensive-neighbourhood-group\" data-toc-modified-id=\"Expensive-neighbourhood-group-6\"><span class=\"toc-item-num\">6&nbsp;&nbsp;</span>Expensive neighbourhood group</a></span></li><li><span><a href=\"#Highlight-most-expensive\" data-toc-modified-id=\"Highlight-most-expensive-7\"><span class=\"toc-item-num\">7&nbsp;&nbsp;</span>Highlight most expensive</a></span></li><li><span><a href=\"#Price-should-be-a-numerical-feature\" data-toc-modified-id=\"Price-should-be-a-numerical-feature-8\"><span class=\"toc-item-num\">8&nbsp;&nbsp;</span>Price should be a numerical feature</a></span></li></ul></div>"
   ]
  },
  {
   "cell_type": "markdown",
   "id": "410b29df",
   "metadata": {},
   "source": [
    "Please declare filepath here"
   ]
  },
  {
   "cell_type": "code",
   "execution_count": 1,
   "id": "f9824f51",
   "metadata": {},
   "outputs": [],
   "source": [
    "import pandas as pd"
   ]
  },
  {
   "cell_type": "code",
   "execution_count": 2,
   "id": "ad243836",
   "metadata": {},
   "outputs": [],
   "source": [
    "df = pd.read_csv(\"../datasets/airbnb_sample.csv\")"
   ]
  },
  {
   "cell_type": "code",
   "execution_count": 3,
   "id": "28cf2e6f",
   "metadata": {},
   "outputs": [
    {
     "data": {
      "text/plain": [
       "(10000, 26)"
      ]
     },
     "execution_count": 3,
     "metadata": {},
     "output_type": "execute_result"
    }
   ],
   "source": [
    "df.shape"
   ]
  },
  {
   "cell_type": "code",
   "execution_count": 4,
   "id": "0e14e2ae",
   "metadata": {},
   "outputs": [],
   "source": [
    "dff = df.sample(200)"
   ]
  },
  {
   "cell_type": "code",
   "execution_count": 5,
   "id": "a4095bba",
   "metadata": {},
   "outputs": [
    {
     "data": {
      "text/html": [
       "<div>\n",
       "<style scoped>\n",
       "    .dataframe tbody tr th:only-of-type {\n",
       "        vertical-align: middle;\n",
       "    }\n",
       "\n",
       "    .dataframe tbody tr th {\n",
       "        vertical-align: top;\n",
       "    }\n",
       "\n",
       "    .dataframe thead th {\n",
       "        text-align: right;\n",
       "    }\n",
       "</style>\n",
       "<table border=\"1\" class=\"dataframe\">\n",
       "  <thead>\n",
       "    <tr style=\"text-align: right;\">\n",
       "      <th></th>\n",
       "      <th>id</th>\n",
       "      <th>NAME</th>\n",
       "      <th>host id</th>\n",
       "      <th>host_identity_verified</th>\n",
       "      <th>host name</th>\n",
       "      <th>neighbourhood group</th>\n",
       "      <th>neighbourhood</th>\n",
       "      <th>lat</th>\n",
       "      <th>long</th>\n",
       "      <th>country</th>\n",
       "      <th>...</th>\n",
       "      <th>service fee</th>\n",
       "      <th>minimum nights</th>\n",
       "      <th>number of reviews</th>\n",
       "      <th>last review</th>\n",
       "      <th>reviews per month</th>\n",
       "      <th>review rate number</th>\n",
       "      <th>calculated host listings count</th>\n",
       "      <th>availability 365</th>\n",
       "      <th>house_rules</th>\n",
       "      <th>license</th>\n",
       "    </tr>\n",
       "  </thead>\n",
       "  <tbody>\n",
       "    <tr>\n",
       "      <th>6122</th>\n",
       "      <td>54937297</td>\n",
       "      <td>Sweet room w/attached bath in center of Flushing.</td>\n",
       "      <td>75437692190</td>\n",
       "      <td>unconfirmed</td>\n",
       "      <td>Liqin</td>\n",
       "      <td>Queens</td>\n",
       "      <td>Flushing</td>\n",
       "      <td>40.75889</td>\n",
       "      <td>-73.82104</td>\n",
       "      <td>United States</td>\n",
       "      <td>...</td>\n",
       "      <td>$225</td>\n",
       "      <td>1.0</td>\n",
       "      <td>39.0</td>\n",
       "      <td>7/7/2019</td>\n",
       "      <td>3.49</td>\n",
       "      <td>3.0</td>\n",
       "      <td>9.0</td>\n",
       "      <td>342.0</td>\n",
       "      <td>NaN</td>\n",
       "      <td>NaN</td>\n",
       "    </tr>\n",
       "    <tr>\n",
       "      <th>4765</th>\n",
       "      <td>47958434</td>\n",
       "      <td>Spacious Parkside Abode</td>\n",
       "      <td>49657417071</td>\n",
       "      <td>unconfirmed</td>\n",
       "      <td>Caroline</td>\n",
       "      <td>Brooklyn</td>\n",
       "      <td>Flatbush</td>\n",
       "      <td>40.65206</td>\n",
       "      <td>-73.96149</td>\n",
       "      <td>United States</td>\n",
       "      <td>...</td>\n",
       "      <td>$48</td>\n",
       "      <td>4.0</td>\n",
       "      <td>5.0</td>\n",
       "      <td>11/9/2018</td>\n",
       "      <td>0.14</td>\n",
       "      <td>5.0</td>\n",
       "      <td>1.0</td>\n",
       "      <td>28.0</td>\n",
       "      <td>There are real beds for eight, one pull out co...</td>\n",
       "      <td>NaN</td>\n",
       "    </tr>\n",
       "    <tr>\n",
       "      <th>1127</th>\n",
       "      <td>1327745</td>\n",
       "      <td>Lovely Apartment</td>\n",
       "      <td>86350704637</td>\n",
       "      <td>unconfirmed</td>\n",
       "      <td>Amy</td>\n",
       "      <td>Brooklyn</td>\n",
       "      <td>Prospect Heights</td>\n",
       "      <td>40.67424</td>\n",
       "      <td>-73.96665</td>\n",
       "      <td>United States</td>\n",
       "      <td>...</td>\n",
       "      <td>$184</td>\n",
       "      <td>5.0</td>\n",
       "      <td>24.0</td>\n",
       "      <td>6/23/2019</td>\n",
       "      <td>0.25</td>\n",
       "      <td>2.0</td>\n",
       "      <td>1.0</td>\n",
       "      <td>NaN</td>\n",
       "      <td>NaN</td>\n",
       "      <td>NaN</td>\n",
       "    </tr>\n",
       "    <tr>\n",
       "      <th>2575</th>\n",
       "      <td>48441697</td>\n",
       "      <td>Beautiful Studio on Tree-Lined St.</td>\n",
       "      <td>10943699984</td>\n",
       "      <td>verified</td>\n",
       "      <td>Liz</td>\n",
       "      <td>Manhattan</td>\n",
       "      <td>Chelsea</td>\n",
       "      <td>40.74583</td>\n",
       "      <td>-74.00451</td>\n",
       "      <td>United States</td>\n",
       "      <td>...</td>\n",
       "      <td>$152</td>\n",
       "      <td>4.0</td>\n",
       "      <td>30.0</td>\n",
       "      <td>7/1/2019</td>\n",
       "      <td>0.82</td>\n",
       "      <td>5.0</td>\n",
       "      <td>1.0</td>\n",
       "      <td>349.0</td>\n",
       "      <td>There is no smoking allowed anywhere on the pr...</td>\n",
       "      <td>NaN</td>\n",
       "    </tr>\n",
       "    <tr>\n",
       "      <th>5030</th>\n",
       "      <td>36438009</td>\n",
       "      <td>Cute and Cozy Private Room Close to the Subway</td>\n",
       "      <td>26969352210</td>\n",
       "      <td>unconfirmed</td>\n",
       "      <td>Jose</td>\n",
       "      <td>Queens</td>\n",
       "      <td>Ozone Park</td>\n",
       "      <td>40.67545</td>\n",
       "      <td>-73.85689</td>\n",
       "      <td>United States</td>\n",
       "      <td>...</td>\n",
       "      <td>$23</td>\n",
       "      <td>30.0</td>\n",
       "      <td>22.0</td>\n",
       "      <td>8/31/2021</td>\n",
       "      <td>0.38</td>\n",
       "      <td>4.0</td>\n",
       "      <td>2.0</td>\n",
       "      <td>8.0</td>\n",
       "      <td>NaN</td>\n",
       "      <td>NaN</td>\n",
       "    </tr>\n",
       "  </tbody>\n",
       "</table>\n",
       "<p>5 rows × 26 columns</p>\n",
       "</div>"
      ],
      "text/plain": [
       "            id                                               NAME  \\\n",
       "6122  54937297  Sweet room w/attached bath in center of Flushing.   \n",
       "4765  47958434                            Spacious Parkside Abode   \n",
       "1127   1327745                                   Lovely Apartment   \n",
       "2575  48441697                 Beautiful Studio on Tree-Lined St.   \n",
       "5030  36438009     Cute and Cozy Private Room Close to the Subway   \n",
       "\n",
       "          host id host_identity_verified host name neighbourhood group  \\\n",
       "6122  75437692190            unconfirmed     Liqin              Queens   \n",
       "4765  49657417071            unconfirmed  Caroline            Brooklyn   \n",
       "1127  86350704637            unconfirmed       Amy            Brooklyn   \n",
       "2575  10943699984               verified       Liz           Manhattan   \n",
       "5030  26969352210            unconfirmed      Jose              Queens   \n",
       "\n",
       "         neighbourhood       lat      long        country  ... service fee  \\\n",
       "6122          Flushing  40.75889 -73.82104  United States  ...       $225    \n",
       "4765          Flatbush  40.65206 -73.96149  United States  ...        $48    \n",
       "1127  Prospect Heights  40.67424 -73.96665  United States  ...       $184    \n",
       "2575           Chelsea  40.74583 -74.00451  United States  ...       $152    \n",
       "5030        Ozone Park  40.67545 -73.85689  United States  ...        $23    \n",
       "\n",
       "     minimum nights number of reviews last review  reviews per month  \\\n",
       "6122            1.0              39.0    7/7/2019               3.49   \n",
       "4765            4.0               5.0   11/9/2018               0.14   \n",
       "1127            5.0              24.0   6/23/2019               0.25   \n",
       "2575            4.0              30.0    7/1/2019               0.82   \n",
       "5030           30.0              22.0   8/31/2021               0.38   \n",
       "\n",
       "     review rate number calculated host listings count  availability 365  \\\n",
       "6122                3.0                            9.0             342.0   \n",
       "4765                5.0                            1.0              28.0   \n",
       "1127                2.0                            1.0               NaN   \n",
       "2575                5.0                            1.0             349.0   \n",
       "5030                4.0                            2.0               8.0   \n",
       "\n",
       "                                            house_rules license  \n",
       "6122                                                NaN     NaN  \n",
       "4765  There are real beds for eight, one pull out co...     NaN  \n",
       "1127                                                NaN     NaN  \n",
       "2575  There is no smoking allowed anywhere on the pr...     NaN  \n",
       "5030                                                NaN     NaN  \n",
       "\n",
       "[5 rows x 26 columns]"
      ]
     },
     "execution_count": 5,
     "metadata": {},
     "output_type": "execute_result"
    }
   ],
   "source": [
    "dff.head()"
   ]
  },
  {
   "cell_type": "code",
   "execution_count": null,
   "id": "5e3c1d5a",
   "metadata": {},
   "outputs": [],
   "source": []
  },
  {
   "cell_type": "markdown",
   "id": "d51c778d",
   "metadata": {},
   "source": [
    "### 5c.2, verified vs unverified"
   ]
  },
  {
   "cell_type": "code",
   "execution_count": 6,
   "id": "727dafa1",
   "metadata": {},
   "outputs": [
    {
     "data": {
      "text/plain": [
       "40.72783387775977"
      ]
     },
     "execution_count": 6,
     "metadata": {},
     "output_type": "execute_result"
    }
   ],
   "source": [
    "df.lat.mean()"
   ]
  },
  {
   "cell_type": "code",
   "execution_count": 7,
   "id": "37d3651e",
   "metadata": {},
   "outputs": [
    {
     "data": {
      "text/plain": [
       "host_identity_verified\n",
       "unconfirmed    40.73\n",
       "verified       40.73\n",
       "Name: lat, dtype: float64"
      ]
     },
     "execution_count": 7,
     "metadata": {},
     "output_type": "execute_result"
    }
   ],
   "source": [
    "df.groupby(\"host_identity_verified\").lat.mean().round(2)"
   ]
  },
  {
   "cell_type": "code",
   "execution_count": 8,
   "id": "9e8510db",
   "metadata": {},
   "outputs": [
    {
     "data": {
      "text/plain": [
       "host_identity_verified\n",
       "unconfirmed   -73.95\n",
       "verified      -73.95\n",
       "Name: long, dtype: float64"
      ]
     },
     "execution_count": 8,
     "metadata": {},
     "output_type": "execute_result"
    }
   ],
   "source": [
    "df.groupby(\"host_identity_verified\").long.mean().round(2)"
   ]
  },
  {
   "cell_type": "code",
   "execution_count": 9,
   "id": "32ae4f0e",
   "metadata": {},
   "outputs": [],
   "source": [
    "import seaborn as sns"
   ]
  },
  {
   "cell_type": "code",
   "execution_count": 10,
   "id": "3a499514",
   "metadata": {},
   "outputs": [
    {
     "data": {
      "text/plain": [
       "<AxesSubplot: xlabel='long', ylabel='lat'>"
      ]
     },
     "execution_count": 10,
     "metadata": {},
     "output_type": "execute_result"
    },
    {
     "data": {
      "image/png": "[encoded data removed]",
      "text/plain": [
       "<Figure size 640x480 with 1 Axes>"
      ]
     },
     "metadata": {},
     "output_type": "display_data"
    }
   ],
   "source": [
    "sns.scatterplot(x=dff.long, y=dff.lat, hue=df.host_identity_verified)"
   ]
  },
  {
   "cell_type": "code",
   "execution_count": null,
   "id": "41e67634",
   "metadata": {},
   "outputs": [],
   "source": []
  },
  {
   "cell_type": "markdown",
   "id": "d2dbfe60",
   "metadata": {},
   "source": [
    "### 5b.2 Linechart"
   ]
  },
  {
   "cell_type": "markdown",
   "id": "4920d5f9",
   "metadata": {},
   "source": [
    "We may use Construction year"
   ]
  },
  {
   "cell_type": "code",
   "execution_count": 11,
   "id": "cd13947f",
   "metadata": {},
   "outputs": [
    {
     "data": {
      "text/html": [
       "<div>\n",
       "<style scoped>\n",
       "    .dataframe tbody tr th:only-of-type {\n",
       "        vertical-align: middle;\n",
       "    }\n",
       "\n",
       "    .dataframe tbody tr th {\n",
       "        vertical-align: top;\n",
       "    }\n",
       "\n",
       "    .dataframe thead th {\n",
       "        text-align: right;\n",
       "    }\n",
       "</style>\n",
       "<table border=\"1\" class=\"dataframe\">\n",
       "  <thead>\n",
       "    <tr style=\"text-align: right;\">\n",
       "      <th></th>\n",
       "      <th>instant_bookable</th>\n",
       "      <th>Construction year</th>\n",
       "      <th>calculated host listings count</th>\n",
       "      <th>availability 365</th>\n",
       "    </tr>\n",
       "  </thead>\n",
       "  <tbody>\n",
       "    <tr>\n",
       "      <th>0</th>\n",
       "      <td>True</td>\n",
       "      <td>2010.0</td>\n",
       "      <td>3.0</td>\n",
       "      <td>342.0</td>\n",
       "    </tr>\n",
       "    <tr>\n",
       "      <th>1</th>\n",
       "      <td>True</td>\n",
       "      <td>2011.0</td>\n",
       "      <td>1.0</td>\n",
       "      <td>354.0</td>\n",
       "    </tr>\n",
       "    <tr>\n",
       "      <th>2</th>\n",
       "      <td>False</td>\n",
       "      <td>2004.0</td>\n",
       "      <td>1.0</td>\n",
       "      <td>123.0</td>\n",
       "    </tr>\n",
       "    <tr>\n",
       "      <th>3</th>\n",
       "      <td>False</td>\n",
       "      <td>2003.0</td>\n",
       "      <td>2.0</td>\n",
       "      <td>365.0</td>\n",
       "    </tr>\n",
       "    <tr>\n",
       "      <th>4</th>\n",
       "      <td>True</td>\n",
       "      <td>2009.0</td>\n",
       "      <td>1.0</td>\n",
       "      <td>0.0</td>\n",
       "    </tr>\n",
       "  </tbody>\n",
       "</table>\n",
       "</div>"
      ],
      "text/plain": [
       "  instant_bookable  Construction year  calculated host listings count  \\\n",
       "0             True             2010.0                             3.0   \n",
       "1             True             2011.0                             1.0   \n",
       "2            False             2004.0                             1.0   \n",
       "3            False             2003.0                             2.0   \n",
       "4             True             2009.0                             1.0   \n",
       "\n",
       "   availability 365  \n",
       "0             342.0  \n",
       "1             354.0  \n",
       "2             123.0  \n",
       "3             365.0  \n",
       "4               0.0  "
      ]
     },
     "execution_count": 11,
     "metadata": {},
     "output_type": "execute_result"
    }
   ],
   "source": [
    "df[['instant_bookable', 'Construction year', 'calculated host listings count',\n",
    "       'availability 365']].head()"
   ]
  },
  {
   "cell_type": "code",
   "execution_count": null,
   "id": "1768abe1",
   "metadata": {},
   "outputs": [],
   "source": []
  },
  {
   "cell_type": "markdown",
   "id": "7024c0cf",
   "metadata": {},
   "source": [
    "### Duplication, to csv"
   ]
  },
  {
   "cell_type": "code",
   "execution_count": 12,
   "id": "0e72561b",
   "metadata": {},
   "outputs": [],
   "source": [
    "dff_no_dup = dff.drop_duplicates(\"host name\")"
   ]
  },
  {
   "cell_type": "code",
   "execution_count": 13,
   "id": "b96f3e08",
   "metadata": {},
   "outputs": [
    {
     "data": {
      "text/plain": [
       "(188, 26)"
      ]
     },
     "execution_count": 13,
     "metadata": {},
     "output_type": "execute_result"
    }
   ],
   "source": [
    "dff_no_dup.shape"
   ]
  },
  {
   "cell_type": "code",
   "execution_count": 14,
   "id": "8e02de7e",
   "metadata": {},
   "outputs": [],
   "source": [
    "dff_no_dup.to_csv(\"../datasets/airbnb_no_dup.csv\", index=False)"
   ]
  },
  {
   "cell_type": "code",
   "execution_count": null,
   "id": "2f57e4df",
   "metadata": {},
   "outputs": [],
   "source": []
  },
  {
   "cell_type": "code",
   "execution_count": null,
   "id": "c71fed39",
   "metadata": {},
   "outputs": [],
   "source": []
  },
  {
   "cell_type": "markdown",
   "id": "fcf8af14",
   "metadata": {},
   "source": [
    "### Dropping nan from unique list"
   ]
  },
  {
   "cell_type": "markdown",
   "id": "f9044710",
   "metadata": {},
   "source": [
    "Hi, how can I properly remove the \"nan\" in cancellationpolicy.unique(): which gives me => 'strict','moderate','flexible' , nan ? Thank you for your help😊"
   ]
  },
  {
   "cell_type": "code",
   "execution_count": 15,
   "id": "e7fb99b4",
   "metadata": {},
   "outputs": [
    {
     "data": {
      "text/plain": [
       "array(['strict', 'moderate', 'flexible', nan], dtype=object)"
      ]
     },
     "execution_count": 15,
     "metadata": {},
     "output_type": "execute_result"
    }
   ],
   "source": [
    "df.cancellation_policy.unique()"
   ]
  },
  {
   "cell_type": "code",
   "execution_count": 16,
   "id": "d85e8ef8",
   "metadata": {},
   "outputs": [
    {
     "data": {
      "text/plain": [
       "[0, 1, 4, 9, 16]"
      ]
     },
     "execution_count": 16,
     "metadata": {},
     "output_type": "execute_result"
    }
   ],
   "source": [
    "[n ** 2 for n in range(5)]"
   ]
  },
  {
   "cell_type": "code",
   "execution_count": 17,
   "id": "c3fe2c73",
   "metadata": {},
   "outputs": [
    {
     "data": {
      "text/plain": [
       "['strict', 'moderate', 'flexible']"
      ]
     },
     "execution_count": 17,
     "metadata": {},
     "output_type": "execute_result"
    }
   ],
   "source": [
    "[elem for elem in df.cancellation_policy.unique() if pd.notna(elem)]"
   ]
  },
  {
   "cell_type": "code",
   "execution_count": 18,
   "id": "d082a9ab",
   "metadata": {},
   "outputs": [
    {
     "data": {
      "text/plain": [
       "array(['strict', 'moderate', 'flexible'], dtype=object)"
      ]
     },
     "execution_count": 18,
     "metadata": {},
     "output_type": "execute_result"
    }
   ],
   "source": [
    "# equivalent\n",
    "df.cancellation_policy.dropna().unique()"
   ]
  },
  {
   "cell_type": "code",
   "execution_count": null,
   "id": "e0c3b77b",
   "metadata": {},
   "outputs": [],
   "source": []
  },
  {
   "cell_type": "markdown",
   "id": "2d3baa30",
   "metadata": {},
   "source": [
    "### read csv from URL"
   ]
  },
  {
   "cell_type": "markdown",
   "id": "3cc8d96d",
   "metadata": {},
   "source": [
    "when we read the airbnb data, path is in our local machine. if you were to run again to test it, you will get error. Is there a way to read it through URL"
   ]
  },
  {
   "cell_type": "markdown",
   "id": "c70a919c",
   "metadata": {},
   "source": [
    "Yes, we can read *in general* csvs from URL, but they have to be public"
   ]
  },
  {
   "cell_type": "code",
   "execution_count": 19,
   "id": "3dd0a460",
   "metadata": {},
   "outputs": [],
   "source": [
    "pokemon = pd.read_csv(\"https://raw.githubusercontent.com/sheriffff/teaching_ibm_skillup_data_analytics2023/main/datasets/pokemon.csv\")"
   ]
  },
  {
   "cell_type": "code",
   "execution_count": 20,
   "id": "058227ad",
   "metadata": {},
   "outputs": [
    {
     "data": {
      "text/html": [
       "<div>\n",
       "<style scoped>\n",
       "    .dataframe tbody tr th:only-of-type {\n",
       "        vertical-align: middle;\n",
       "    }\n",
       "\n",
       "    .dataframe tbody tr th {\n",
       "        vertical-align: top;\n",
       "    }\n",
       "\n",
       "    .dataframe thead th {\n",
       "        text-align: right;\n",
       "    }\n",
       "</style>\n",
       "<table border=\"1\" class=\"dataframe\">\n",
       "  <thead>\n",
       "    <tr style=\"text-align: right;\">\n",
       "      <th></th>\n",
       "      <th>#</th>\n",
       "      <th>Name</th>\n",
       "      <th>Type 1</th>\n",
       "      <th>Type 2</th>\n",
       "      <th>Total</th>\n",
       "      <th>HP</th>\n",
       "      <th>Attack</th>\n",
       "      <th>Defense</th>\n",
       "      <th>Sp. Atk</th>\n",
       "      <th>Sp. Def</th>\n",
       "      <th>Speed</th>\n",
       "      <th>Generation</th>\n",
       "      <th>Legendary</th>\n",
       "    </tr>\n",
       "  </thead>\n",
       "  <tbody>\n",
       "    <tr>\n",
       "      <th>0</th>\n",
       "      <td>1</td>\n",
       "      <td>Bulbasaur</td>\n",
       "      <td>Grass</td>\n",
       "      <td>Poison</td>\n",
       "      <td>318</td>\n",
       "      <td>45</td>\n",
       "      <td>49</td>\n",
       "      <td>49</td>\n",
       "      <td>65</td>\n",
       "      <td>65</td>\n",
       "      <td>45</td>\n",
       "      <td>1</td>\n",
       "      <td>False</td>\n",
       "    </tr>\n",
       "    <tr>\n",
       "      <th>1</th>\n",
       "      <td>2</td>\n",
       "      <td>Ivysaur</td>\n",
       "      <td>Grass</td>\n",
       "      <td>Poison</td>\n",
       "      <td>405</td>\n",
       "      <td>60</td>\n",
       "      <td>62</td>\n",
       "      <td>63</td>\n",
       "      <td>80</td>\n",
       "      <td>80</td>\n",
       "      <td>60</td>\n",
       "      <td>1</td>\n",
       "      <td>False</td>\n",
       "    </tr>\n",
       "    <tr>\n",
       "      <th>2</th>\n",
       "      <td>3</td>\n",
       "      <td>Venusaur</td>\n",
       "      <td>Grass</td>\n",
       "      <td>Poison</td>\n",
       "      <td>525</td>\n",
       "      <td>80</td>\n",
       "      <td>82</td>\n",
       "      <td>83</td>\n",
       "      <td>100</td>\n",
       "      <td>100</td>\n",
       "      <td>80</td>\n",
       "      <td>1</td>\n",
       "      <td>False</td>\n",
       "    </tr>\n",
       "    <tr>\n",
       "      <th>3</th>\n",
       "      <td>3</td>\n",
       "      <td>VenusaurMega Venusaur</td>\n",
       "      <td>Grass</td>\n",
       "      <td>Poison</td>\n",
       "      <td>625</td>\n",
       "      <td>80</td>\n",
       "      <td>100</td>\n",
       "      <td>123</td>\n",
       "      <td>122</td>\n",
       "      <td>120</td>\n",
       "      <td>80</td>\n",
       "      <td>1</td>\n",
       "      <td>False</td>\n",
       "    </tr>\n",
       "    <tr>\n",
       "      <th>4</th>\n",
       "      <td>4</td>\n",
       "      <td>Charmander</td>\n",
       "      <td>Fire</td>\n",
       "      <td>NaN</td>\n",
       "      <td>309</td>\n",
       "      <td>39</td>\n",
       "      <td>52</td>\n",
       "      <td>43</td>\n",
       "      <td>60</td>\n",
       "      <td>50</td>\n",
       "      <td>65</td>\n",
       "      <td>1</td>\n",
       "      <td>False</td>\n",
       "    </tr>\n",
       "  </tbody>\n",
       "</table>\n",
       "</div>"
      ],
      "text/plain": [
       "   #                   Name Type 1  Type 2  Total  HP  Attack  Defense  \\\n",
       "0  1              Bulbasaur  Grass  Poison    318  45      49       49   \n",
       "1  2                Ivysaur  Grass  Poison    405  60      62       63   \n",
       "2  3               Venusaur  Grass  Poison    525  80      82       83   \n",
       "3  3  VenusaurMega Venusaur  Grass  Poison    625  80     100      123   \n",
       "4  4             Charmander   Fire     NaN    309  39      52       43   \n",
       "\n",
       "   Sp. Atk  Sp. Def  Speed  Generation  Legendary  \n",
       "0       65       65     45           1      False  \n",
       "1       80       80     60           1      False  \n",
       "2      100      100     80           1      False  \n",
       "3      122      120     80           1      False  \n",
       "4       60       50     65           1      False  "
      ]
     },
     "execution_count": 20,
     "metadata": {},
     "output_type": "execute_result"
    }
   ],
   "source": [
    "pokemon.head()"
   ]
  },
  {
   "cell_type": "code",
   "execution_count": null,
   "id": "618036bb",
   "metadata": {},
   "outputs": [],
   "source": []
  },
  {
   "cell_type": "markdown",
   "id": "46917151",
   "metadata": {},
   "source": [
    "In task 4, do I need to filter out the NULL cancellation policy for listing the number of activities and find the most strict cancellation policy?"
   ]
  },
  {
   "cell_type": "markdown",
   "id": "fd644733",
   "metadata": {},
   "source": [
    "Yes, you can filter out the nulls"
   ]
  },
  {
   "cell_type": "code",
   "execution_count": 21,
   "id": "6ac20230",
   "metadata": {},
   "outputs": [
    {
     "data": {
      "text/plain": [
       "array(['strict', 'moderate', 'flexible', nan], dtype=object)"
      ]
     },
     "execution_count": 21,
     "metadata": {},
     "output_type": "execute_result"
    }
   ],
   "source": [
    "df.cancellation_policy.unique()"
   ]
  },
  {
   "cell_type": "code",
   "execution_count": 22,
   "id": "59da1a31",
   "metadata": {},
   "outputs": [
    {
     "data": {
      "text/plain": [
       "(10000, 26)"
      ]
     },
     "execution_count": 22,
     "metadata": {},
     "output_type": "execute_result"
    }
   ],
   "source": [
    "df.shape"
   ]
  },
  {
   "cell_type": "code",
   "execution_count": 23,
   "id": "d4d2fac5",
   "metadata": {},
   "outputs": [],
   "source": [
    "df_ok_cancel = df[df.cancellation_policy.notna()]"
   ]
  },
  {
   "cell_type": "code",
   "execution_count": 24,
   "id": "3d1de787",
   "metadata": {},
   "outputs": [
    {
     "data": {
      "text/plain": [
       "(9994, 26)"
      ]
     },
     "execution_count": 24,
     "metadata": {},
     "output_type": "execute_result"
    }
   ],
   "source": [
    "df_ok_cancel.shape"
   ]
  },
  {
   "cell_type": "code",
   "execution_count": 25,
   "id": "1643e2ee",
   "metadata": {},
   "outputs": [
    {
     "data": {
      "text/plain": [
       "array(['strict', 'moderate', 'flexible'], dtype=object)"
      ]
     },
     "execution_count": 25,
     "metadata": {},
     "output_type": "execute_result"
    }
   ],
   "source": [
    "df_ok_cancel.cancellation_policy.unique()"
   ]
  },
  {
   "cell_type": "code",
   "execution_count": 26,
   "id": "aebe7d01",
   "metadata": {},
   "outputs": [
    {
     "data": {
      "text/plain": [
       "moderate    3390\n",
       "strict      3320\n",
       "flexible    3284\n",
       "Name: cancellation_policy, dtype: int64"
      ]
     },
     "execution_count": 26,
     "metadata": {},
     "output_type": "execute_result"
    }
   ],
   "source": [
    "df_ok_cancel.cancellation_policy.value_counts()"
   ]
  },
  {
   "cell_type": "code",
   "execution_count": null,
   "id": "0d78f660",
   "metadata": {},
   "outputs": [],
   "source": []
  },
  {
   "cell_type": "markdown",
   "id": "e6407b3f",
   "metadata": {},
   "source": [
    "### Expensive neighbourhood group"
   ]
  },
  {
   "cell_type": "markdown",
   "id": "5242e60f",
   "metadata": {},
   "source": [
    "Can you give us any tips on how to proceed to calculate and show which of the neighbourhood_group is the most expensive? Which process would be the better?"
   ]
  },
  {
   "cell_type": "markdown",
   "id": "9fb521e7",
   "metadata": {},
   "source": [
    "You may:\n",
    " - group by neighbourhood group then calculate median or average price\n",
    " - build one boxplot of price per neighbourhood\n",
    " - build one histogram per neighbourhood"
   ]
  },
  {
   "cell_type": "code",
   "execution_count": 27,
   "id": "67dcd0e5",
   "metadata": {},
   "outputs": [],
   "source": [
    "df2 = df[[\"neighbourhood group\", \"price\"]].copy()"
   ]
  },
  {
   "cell_type": "code",
   "execution_count": 28,
   "id": "db7cf4fd",
   "metadata": {},
   "outputs": [
    {
     "data": {
      "text/plain": [
       "neighbourhood group    object\n",
       "price                  object\n",
       "dtype: object"
      ]
     },
     "execution_count": 28,
     "metadata": {},
     "output_type": "execute_result"
    }
   ],
   "source": [
    "df2.dtypes"
   ]
  },
  {
   "cell_type": "code",
   "execution_count": 29,
   "id": "9223759e",
   "metadata": {},
   "outputs": [
    {
     "data": {
      "text/html": [
       "<div>\n",
       "<style scoped>\n",
       "    .dataframe tbody tr th:only-of-type {\n",
       "        vertical-align: middle;\n",
       "    }\n",
       "\n",
       "    .dataframe tbody tr th {\n",
       "        vertical-align: top;\n",
       "    }\n",
       "\n",
       "    .dataframe thead th {\n",
       "        text-align: right;\n",
       "    }\n",
       "</style>\n",
       "<table border=\"1\" class=\"dataframe\">\n",
       "  <thead>\n",
       "    <tr style=\"text-align: right;\">\n",
       "      <th></th>\n",
       "      <th>neighbourhood group</th>\n",
       "      <th>price</th>\n",
       "    </tr>\n",
       "  </thead>\n",
       "  <tbody>\n",
       "    <tr>\n",
       "      <th>0</th>\n",
       "      <td>Queens</td>\n",
       "      <td>$734</td>\n",
       "    </tr>\n",
       "    <tr>\n",
       "      <th>1</th>\n",
       "      <td>Brooklyn</td>\n",
       "      <td>$633</td>\n",
       "    </tr>\n",
       "    <tr>\n",
       "      <th>2</th>\n",
       "      <td>Brooklyn</td>\n",
       "      <td>$1,107</td>\n",
       "    </tr>\n",
       "    <tr>\n",
       "      <th>3</th>\n",
       "      <td>Queens</td>\n",
       "      <td>$1,006</td>\n",
       "    </tr>\n",
       "    <tr>\n",
       "      <th>4</th>\n",
       "      <td>Manhattan</td>\n",
       "      <td>$101</td>\n",
       "    </tr>\n",
       "  </tbody>\n",
       "</table>\n",
       "</div>"
      ],
      "text/plain": [
       "  neighbourhood group    price\n",
       "0              Queens    $734 \n",
       "1            Brooklyn    $633 \n",
       "2            Brooklyn  $1,107 \n",
       "3              Queens  $1,006 \n",
       "4           Manhattan    $101 "
      ]
     },
     "execution_count": 29,
     "metadata": {},
     "output_type": "execute_result"
    }
   ],
   "source": [
    "df2.head()"
   ]
  },
  {
   "cell_type": "code",
   "execution_count": 30,
   "id": "3b0ed5ee",
   "metadata": {},
   "outputs": [
    {
     "data": {
      "text/plain": [
       "Manhattan        4213\n",
       "Brooklyn         4138\n",
       "Queens           1284\n",
       "Bronx             265\n",
       "Staten Island      99\n",
       "Name: neighbourhood group, dtype: int64"
      ]
     },
     "execution_count": 30,
     "metadata": {},
     "output_type": "execute_result"
    }
   ],
   "source": [
    "df2[\"neighbourhood group\"].value_counts()"
   ]
  },
  {
   "cell_type": "code",
   "execution_count": null,
   "id": "3ec1f9cd",
   "metadata": {},
   "outputs": [],
   "source": []
  },
  {
   "cell_type": "markdown",
   "id": "f7315cd2",
   "metadata": {},
   "source": [
    "### Highlight most expensive"
   ]
  },
  {
   "cell_type": "markdown",
   "id": "15b92bab",
   "metadata": {},
   "source": [
    "task 4: how to highlight the most expensive neighborhood to rent from after getting the results using gruopby?"
   ]
  },
  {
   "cell_type": "code",
   "execution_count": 31,
   "id": "df0790aa",
   "metadata": {},
   "outputs": [],
   "source": [
    "pokemon = pd.read_csv(\"../datasets/pokemon.csv\")"
   ]
  },
  {
   "cell_type": "code",
   "execution_count": 32,
   "id": "8e28b687",
   "metadata": {},
   "outputs": [
    {
     "data": {
      "text/html": [
       "<div>\n",
       "<style scoped>\n",
       "    .dataframe tbody tr th:only-of-type {\n",
       "        vertical-align: middle;\n",
       "    }\n",
       "\n",
       "    .dataframe tbody tr th {\n",
       "        vertical-align: top;\n",
       "    }\n",
       "\n",
       "    .dataframe thead th {\n",
       "        text-align: right;\n",
       "    }\n",
       "</style>\n",
       "<table border=\"1\" class=\"dataframe\">\n",
       "  <thead>\n",
       "    <tr style=\"text-align: right;\">\n",
       "      <th></th>\n",
       "      <th>#</th>\n",
       "      <th>Name</th>\n",
       "      <th>Type 1</th>\n",
       "      <th>Type 2</th>\n",
       "      <th>Total</th>\n",
       "      <th>HP</th>\n",
       "      <th>Attack</th>\n",
       "      <th>Defense</th>\n",
       "      <th>Sp. Atk</th>\n",
       "      <th>Sp. Def</th>\n",
       "      <th>Speed</th>\n",
       "      <th>Generation</th>\n",
       "      <th>Legendary</th>\n",
       "    </tr>\n",
       "  </thead>\n",
       "  <tbody>\n",
       "    <tr>\n",
       "      <th>0</th>\n",
       "      <td>1</td>\n",
       "      <td>Bulbasaur</td>\n",
       "      <td>Grass</td>\n",
       "      <td>Poison</td>\n",
       "      <td>318</td>\n",
       "      <td>45</td>\n",
       "      <td>49</td>\n",
       "      <td>49</td>\n",
       "      <td>65</td>\n",
       "      <td>65</td>\n",
       "      <td>45</td>\n",
       "      <td>1</td>\n",
       "      <td>False</td>\n",
       "    </tr>\n",
       "    <tr>\n",
       "      <th>1</th>\n",
       "      <td>2</td>\n",
       "      <td>Ivysaur</td>\n",
       "      <td>Grass</td>\n",
       "      <td>Poison</td>\n",
       "      <td>405</td>\n",
       "      <td>60</td>\n",
       "      <td>62</td>\n",
       "      <td>63</td>\n",
       "      <td>80</td>\n",
       "      <td>80</td>\n",
       "      <td>60</td>\n",
       "      <td>1</td>\n",
       "      <td>False</td>\n",
       "    </tr>\n",
       "    <tr>\n",
       "      <th>2</th>\n",
       "      <td>3</td>\n",
       "      <td>Venusaur</td>\n",
       "      <td>Grass</td>\n",
       "      <td>Poison</td>\n",
       "      <td>525</td>\n",
       "      <td>80</td>\n",
       "      <td>82</td>\n",
       "      <td>83</td>\n",
       "      <td>100</td>\n",
       "      <td>100</td>\n",
       "      <td>80</td>\n",
       "      <td>1</td>\n",
       "      <td>False</td>\n",
       "    </tr>\n",
       "    <tr>\n",
       "      <th>3</th>\n",
       "      <td>3</td>\n",
       "      <td>VenusaurMega Venusaur</td>\n",
       "      <td>Grass</td>\n",
       "      <td>Poison</td>\n",
       "      <td>625</td>\n",
       "      <td>80</td>\n",
       "      <td>100</td>\n",
       "      <td>123</td>\n",
       "      <td>122</td>\n",
       "      <td>120</td>\n",
       "      <td>80</td>\n",
       "      <td>1</td>\n",
       "      <td>False</td>\n",
       "    </tr>\n",
       "    <tr>\n",
       "      <th>4</th>\n",
       "      <td>4</td>\n",
       "      <td>Charmander</td>\n",
       "      <td>Fire</td>\n",
       "      <td>NaN</td>\n",
       "      <td>309</td>\n",
       "      <td>39</td>\n",
       "      <td>52</td>\n",
       "      <td>43</td>\n",
       "      <td>60</td>\n",
       "      <td>50</td>\n",
       "      <td>65</td>\n",
       "      <td>1</td>\n",
       "      <td>False</td>\n",
       "    </tr>\n",
       "  </tbody>\n",
       "</table>\n",
       "</div>"
      ],
      "text/plain": [
       "   #                   Name Type 1  Type 2  Total  HP  Attack  Defense  \\\n",
       "0  1              Bulbasaur  Grass  Poison    318  45      49       49   \n",
       "1  2                Ivysaur  Grass  Poison    405  60      62       63   \n",
       "2  3               Venusaur  Grass  Poison    525  80      82       83   \n",
       "3  3  VenusaurMega Venusaur  Grass  Poison    625  80     100      123   \n",
       "4  4             Charmander   Fire     NaN    309  39      52       43   \n",
       "\n",
       "   Sp. Atk  Sp. Def  Speed  Generation  Legendary  \n",
       "0       65       65     45           1      False  \n",
       "1       80       80     60           1      False  \n",
       "2      100      100     80           1      False  \n",
       "3      122      120     80           1      False  \n",
       "4       60       50     65           1      False  "
      ]
     },
     "execution_count": 32,
     "metadata": {},
     "output_type": "execute_result"
    }
   ],
   "source": [
    "pokemon.head()"
   ]
  },
  {
   "cell_type": "code",
   "execution_count": 33,
   "id": "5649c054",
   "metadata": {},
   "outputs": [],
   "source": [
    "pokemon_little = pokemon[pokemon[\"Type 1\"].isin(['Grass', 'Fire', 'Water', 'Bug'])].copy()"
   ]
  },
  {
   "cell_type": "code",
   "execution_count": 34,
   "id": "2f183b68",
   "metadata": {},
   "outputs": [
    {
     "data": {
      "text/plain": [
       "array(['Grass', 'Fire', 'Water', 'Bug'], dtype=object)"
      ]
     },
     "execution_count": 34,
     "metadata": {},
     "output_type": "execute_result"
    }
   ],
   "source": [
    "pokemon_little[\"Type 1\"].unique()"
   ]
  },
  {
   "cell_type": "code",
   "execution_count": 38,
   "id": "91e0ad4d",
   "metadata": {},
   "outputs": [
    {
     "data": {
      "text/plain": [
       "Type 1\n",
       "Grass    58.5\n",
       "Bug      60.0\n",
       "Water    65.0\n",
       "Fire     78.5\n",
       "Name: Speed, dtype: float64"
      ]
     },
     "execution_count": 38,
     "metadata": {},
     "output_type": "execute_result"
    }
   ],
   "source": [
    "pokemon_little.groupby(\"Type 1\").Speed.median().sort_values()"
   ]
  },
  {
   "cell_type": "code",
   "execution_count": 41,
   "id": "660ae79f",
   "metadata": {},
   "outputs": [],
   "source": [
    "order_speed = pokemon_little.groupby(\"Type 1\").Speed.median().sort_values().index"
   ]
  },
  {
   "cell_type": "code",
   "execution_count": 42,
   "id": "0ae15b79",
   "metadata": {},
   "outputs": [
    {
     "data": {
      "text/plain": [
       "Index(['Grass', 'Bug', 'Water', 'Fire'], dtype='object', name='Type 1')"
      ]
     },
     "execution_count": 42,
     "metadata": {},
     "output_type": "execute_result"
    }
   ],
   "source": [
    "order_speed"
   ]
  },
  {
   "cell_type": "code",
   "execution_count": 43,
   "id": "abd04cad",
   "metadata": {},
   "outputs": [
    {
     "data": {
      "text/plain": [
       "<AxesSubplot: xlabel='Type 1', ylabel='Speed'>"
      ]
     },
     "execution_count": 43,
     "metadata": {},
     "output_type": "execute_result"
    },
    {
     "data": {
      "image/png": "[encoded data removed]",
      "text/plain": [
       "<Figure size 640x480 with 1 Axes>"
      ]
     },
     "metadata": {},
     "output_type": "display_data"
    }
   ],
   "source": [
    "sns.boxplot(y=pokemon_little.Speed, x=pokemon_little[\"Type 1\"], order=order_speed)"
   ]
  },
  {
   "cell_type": "code",
   "execution_count": null,
   "id": "77653431",
   "metadata": {},
   "outputs": [],
   "source": []
  },
  {
   "cell_type": "code",
   "execution_count": 45,
   "id": "00d6acff",
   "metadata": {},
   "outputs": [
    {
     "data": {
      "text/plain": [
       "Index(['id', 'NAME', 'host id', 'host_identity_verified', 'host name',\n",
       "       'neighbourhood group', 'neighbourhood', 'lat', 'long', 'country',\n",
       "       'country code', 'instant_bookable', 'cancellation_policy', 'room type',\n",
       "       'Construction year', 'price', 'service fee', 'minimum nights',\n",
       "       'number of reviews', 'last review', 'reviews per month',\n",
       "       'review rate number', 'calculated host listings count',\n",
       "       'availability 365', 'house_rules', 'license'],\n",
       "      dtype='object')"
      ]
     },
     "execution_count": 45,
     "metadata": {},
     "output_type": "execute_result"
    }
   ],
   "source": [
    "df.columns"
   ]
  },
  {
   "cell_type": "code",
   "execution_count": null,
   "id": "5527ec98",
   "metadata": {},
   "outputs": [],
   "source": []
  },
  {
   "cell_type": "markdown",
   "id": "6ba97379",
   "metadata": {},
   "source": [
    "### Price should be a numerical feature"
   ]
  },
  {
   "cell_type": "code",
   "execution_count": 55,
   "id": "5a8875ae",
   "metadata": {},
   "outputs": [
    {
     "data": {
      "text/plain": [
       "(10000, 26)"
      ]
     },
     "execution_count": 55,
     "metadata": {},
     "output_type": "execute_result"
    }
   ],
   "source": [
    "df.shape"
   ]
  },
  {
   "cell_type": "code",
   "execution_count": 57,
   "id": "76b10719",
   "metadata": {},
   "outputs": [
    {
     "data": {
      "text/plain": [
       "0      $734 \n",
       "1      $633 \n",
       "2    $1,107 \n",
       "3    $1,006 \n",
       "4      $101 \n",
       "Name: price, dtype: object"
      ]
     },
     "execution_count": 57,
     "metadata": {},
     "output_type": "execute_result"
    }
   ],
   "source": [
    "df.price.head()"
   ]
  },
  {
   "cell_type": "code",
   "execution_count": 58,
   "id": "cc3dfc67",
   "metadata": {},
   "outputs": [
    {
     "data": {
      "text/plain": [
       "dtype('O')"
      ]
     },
     "execution_count": 58,
     "metadata": {},
     "output_type": "execute_result"
    }
   ],
   "source": [
    "df.price.dtype"
   ]
  },
  {
   "cell_type": "code",
   "execution_count": 63,
   "id": "dff81a22",
   "metadata": {},
   "outputs": [
    {
     "name": "stderr",
     "output_type": "stream",
     "text": [
      "/tmp/ipykernel_10095/3350584771.py:1: FutureWarning: The default value of regex will change from True to False in a future version. In addition, single character regular expressions will *not* be treated as literal strings when regex=True.\n",
      "  df.price = df.price.str.replace(\"$\", \"\").str.replace(\",\", \"\").astype(float)\n"
     ]
    }
   ],
   "source": [
    "df.price = df.price.str.replace(\"$\", \"\").str.replace(\",\", \"\").astype(float)"
   ]
  },
  {
   "cell_type": "code",
   "execution_count": 64,
   "id": "bd4c78b3",
   "metadata": {},
   "outputs": [
    {
     "data": {
      "text/plain": [
       "dtype('float64')"
      ]
     },
     "execution_count": 64,
     "metadata": {},
     "output_type": "execute_result"
    }
   ],
   "source": [
    "df.price.dtype"
   ]
  },
  {
   "cell_type": "code",
   "execution_count": 65,
   "id": "656cd54e",
   "metadata": {},
   "outputs": [
    {
     "data": {
      "text/plain": [
       "628.690039121276"
      ]
     },
     "execution_count": 65,
     "metadata": {},
     "output_type": "execute_result"
    }
   ],
   "source": [
    "df.price.mean()"
   ]
  },
  {
   "cell_type": "code",
   "execution_count": 68,
   "id": "160dbeaf",
   "metadata": {},
   "outputs": [
    {
     "data": {
      "text/plain": [
       "neighbourhood group\n",
       "Staten Island    609.1\n",
       "Manhattan        624.2\n",
       "Brooklyn         629.2\n",
       "Queens           640.9\n",
       "Bronx            643.4\n",
       "Name: price, dtype: float64"
      ]
     },
     "execution_count": 68,
     "metadata": {},
     "output_type": "execute_result"
    }
   ],
   "source": [
    "df.groupby(\"neighbourhood group\").price.mean().round(1).sort_values()"
   ]
  },
  {
   "cell_type": "code",
   "execution_count": null,
   "id": "054c099e",
   "metadata": {},
   "outputs": [],
   "source": []
  },
  {
   "cell_type": "code",
   "execution_count": null,
   "id": "c37242a1",
   "metadata": {},
   "outputs": [],
   "source": []
  },
  {
   "cell_type": "code",
   "execution_count": 73,
   "id": "64c1c59a",
   "metadata": {},
   "outputs": [
    {
     "name": "stderr",
     "output_type": "stream",
     "text": [
      "/tmp/ipykernel_10095/197254191.py:1: FutureWarning: The default value of regex will change from True to False in a future version. In addition, single character regular expressions will *not* be treated as literal strings when regex=True.\n",
      "  df[\"service fee\"]= df[\"service fee\"].str.replace(\"$\", \"\").str.replace(\",\", \"\").astype(float)\n"
     ]
    }
   ],
   "source": [
    "df[\"service fee\"]= df[\"service fee\"].str.replace(\"$\", \"\").str.replace(\",\", \"\").astype(float)"
   ]
  },
  {
   "cell_type": "code",
   "execution_count": 74,
   "id": "48331434",
   "metadata": {},
   "outputs": [
    {
     "data": {
      "text/plain": [
       "<AxesSubplot: xlabel='price', ylabel='service fee'>"
      ]
     },
     "execution_count": 74,
     "metadata": {},
     "output_type": "execute_result"
    },
    {
     "data": {
      "image/png": "[encoded data removed]",
      "text/plain": [
       "<Figure size 640x480 with 1 Axes>"
      ]
     },
     "metadata": {},
     "output_type": "display_data"
    }
   ],
   "source": [
    "sns.scatterplot(x=df.price, y=df[\"service fee\"])"
   ]
  },
  {
   "cell_type": "code",
   "execution_count": 76,
   "id": "7132efa9",
   "metadata": {},
   "outputs": [
    {
     "data": {
      "text/plain": [
       "0       0.200272\n",
       "1       0.200632\n",
       "2       0.199639\n",
       "3       0.199801\n",
       "4       0.198020\n",
       "          ...   \n",
       "9995    0.201258\n",
       "9996    0.200000\n",
       "9997    0.200717\n",
       "9998    0.200846\n",
       "9999    0.201389\n",
       "Length: 10000, dtype: float64"
      ]
     },
     "execution_count": 76,
     "metadata": {},
     "output_type": "execute_result"
    }
   ],
   "source": [
    "df[\"service fee\"] / df.price"
   ]
  },
  {
   "cell_type": "code",
   "execution_count": 75,
   "id": "526e5137",
   "metadata": {},
   "outputs": [
    {
     "data": {
      "text/html": [
       "<div>\n",
       "<style scoped>\n",
       "    .dataframe tbody tr th:only-of-type {\n",
       "        vertical-align: middle;\n",
       "    }\n",
       "\n",
       "    .dataframe tbody tr th {\n",
       "        vertical-align: top;\n",
       "    }\n",
       "\n",
       "    .dataframe thead th {\n",
       "        text-align: right;\n",
       "    }\n",
       "</style>\n",
       "<table border=\"1\" class=\"dataframe\">\n",
       "  <thead>\n",
       "    <tr style=\"text-align: right;\">\n",
       "      <th></th>\n",
       "      <th>price</th>\n",
       "      <th>service fee</th>\n",
       "    </tr>\n",
       "  </thead>\n",
       "  <tbody>\n",
       "    <tr>\n",
       "      <th>0</th>\n",
       "      <td>734.0</td>\n",
       "      <td>147.0</td>\n",
       "    </tr>\n",
       "    <tr>\n",
       "      <th>1</th>\n",
       "      <td>633.0</td>\n",
       "      <td>127.0</td>\n",
       "    </tr>\n",
       "    <tr>\n",
       "      <th>2</th>\n",
       "      <td>1107.0</td>\n",
       "      <td>221.0</td>\n",
       "    </tr>\n",
       "    <tr>\n",
       "      <th>3</th>\n",
       "      <td>1006.0</td>\n",
       "      <td>201.0</td>\n",
       "    </tr>\n",
       "    <tr>\n",
       "      <th>4</th>\n",
       "      <td>101.0</td>\n",
       "      <td>20.0</td>\n",
       "    </tr>\n",
       "    <tr>\n",
       "      <th>...</th>\n",
       "      <td>...</td>\n",
       "      <td>...</td>\n",
       "    </tr>\n",
       "    <tr>\n",
       "      <th>9995</th>\n",
       "      <td>159.0</td>\n",
       "      <td>32.0</td>\n",
       "    </tr>\n",
       "    <tr>\n",
       "      <th>9996</th>\n",
       "      <td>1125.0</td>\n",
       "      <td>225.0</td>\n",
       "    </tr>\n",
       "    <tr>\n",
       "      <th>9997</th>\n",
       "      <td>558.0</td>\n",
       "      <td>112.0</td>\n",
       "    </tr>\n",
       "    <tr>\n",
       "      <th>9998</th>\n",
       "      <td>473.0</td>\n",
       "      <td>95.0</td>\n",
       "    </tr>\n",
       "    <tr>\n",
       "      <th>9999</th>\n",
       "      <td>288.0</td>\n",
       "      <td>58.0</td>\n",
       "    </tr>\n",
       "  </tbody>\n",
       "</table>\n",
       "<p>10000 rows × 2 columns</p>\n",
       "</div>"
      ],
      "text/plain": [
       "       price  service fee\n",
       "0      734.0        147.0\n",
       "1      633.0        127.0\n",
       "2     1107.0        221.0\n",
       "3     1006.0        201.0\n",
       "4      101.0         20.0\n",
       "...      ...          ...\n",
       "9995   159.0         32.0\n",
       "9996  1125.0        225.0\n",
       "9997   558.0        112.0\n",
       "9998   473.0         95.0\n",
       "9999   288.0         58.0\n",
       "\n",
       "[10000 rows x 2 columns]"
      ]
     },
     "execution_count": 75,
     "metadata": {},
     "output_type": "execute_result"
    }
   ],
   "source": [
    "df[[\"price\", \"service fee\"]]"
   ]
  },
  {
   "cell_type": "code",
   "execution_count": null,
   "id": "47c2f601",
   "metadata": {},
   "outputs": [],
   "source": []
  }
 ],
 "metadata": {
  "kernelspec": {
   "display_name": "Python 3 (ipykernel)",
   "language": "python",
   "name": "python3"
  },
  "language_info": {
   "codemirror_mode": {
    "name": "ipython",
    "version": 3
   },
   "file_extension": ".py",
   "mimetype": "text/x-python",
   "name": "python",
   "nbconvert_exporter": "python",
   "pygments_lexer": "ipython3",
   "version": "3.10.6"
  },
  "toc": {
   "base_numbering": 1,
   "nav_menu": {},
   "number_sections": true,
   "sideBar": true,
   "skip_h1_title": true,
   "title_cell": "Table of Contents",
   "title_sidebar": "Contents",
   "toc_cell": true,
   "toc_position": {},
   "toc_section_display": true,
   "toc_window_display": false
  },
  "varInspector": {
   "cols": {
    "lenName": 16,
    "lenType": 16,
    "lenVar": 40
   },
   "kernels_config": {
    "python": {
     "delete_cmd_postfix": "",
     "delete_cmd_prefix": "del ",
     "library": "var_list.py",
     "varRefreshCmd": "print(var_dic_list())"
    },
    "r": {
     "delete_cmd_postfix": ") ",
     "delete_cmd_prefix": "rm(",
     "library": "var_list.r",
     "varRefreshCmd": "cat(var_dic_list()) "
    }
   },
   "types_to_exclude": [
    "module",
    "function",
    "builtin_function_or_method",
    "instance",
    "_Feature"
   ],
   "window_display": false
  }
 },
 "nbformat": 4,
 "nbformat_minor": 5
}
