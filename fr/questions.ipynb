{
 "cells": [
  {
   "cell_type": "markdown",
   "id": "2ab369b0",
   "metadata": {
    "toc": true
   },
   "source": [
    "<h1>Table of Contents<span class=\"tocSkip\"></span></h1>\n",
    "<div class=\"toc\"><ul class=\"toc-item\"><li><span><a href=\"#Fini-le-cours\" data-toc-modified-id=\"Fini-le-cours-1\"><span class=\"toc-item-num\">1&nbsp;&nbsp;</span>Fini le cours</a></span></li><li><span><a href=\"#Feedback?\" data-toc-modified-id=\"Feedback?-2\"><span class=\"toc-item-num\">2&nbsp;&nbsp;</span>Feedback?</a></span></li><li><span><a href=\"#Quiz\" data-toc-modified-id=\"Quiz-3\"><span class=\"toc-item-num\">3&nbsp;&nbsp;</span>Quiz</a></span></li><li><span><a href=\"#Note-minimale\" data-toc-modified-id=\"Note-minimale-4\"><span class=\"toc-item-num\">4&nbsp;&nbsp;</span>Note minimale</a></span></li><li><span><a href=\"#Temps-estimé\" data-toc-modified-id=\"Temps-estimé-5\"><span class=\"toc-item-num\">5&nbsp;&nbsp;</span>Temps estimé</a></span></li><li><span><a href=\"#Finalisation\" data-toc-modified-id=\"Finalisation-6\"><span class=\"toc-item-num\">6&nbsp;&nbsp;</span>Finalisation</a></span></li><li><span><a href=\"#Viz-5c\" data-toc-modified-id=\"Viz-5c-7\"><span class=\"toc-item-num\">7&nbsp;&nbsp;</span>Viz 5c</a></span></li><li><span><a href=\"#Erreur-5c2\" data-toc-modified-id=\"Erreur-5c2-8\"><span class=\"toc-item-num\">8&nbsp;&nbsp;</span>Erreur 5c2</a></span></li><li><span><a href=\"#Seulement-Python?\" data-toc-modified-id=\"Seulement-Python?-9\"><span class=\"toc-item-num\">9&nbsp;&nbsp;</span>Seulement Python?</a></span></li><li><span><a href=\"#Quelques-/-un-outil?\" data-toc-modified-id=\"Quelques-/-un-outil?-10\"><span class=\"toc-item-num\">10&nbsp;&nbsp;</span>Quelques / un outil?</a></span></li><li><span><a href=\"#Plusieurs-projets\" data-toc-modified-id=\"Plusieurs-projets-11\"><span class=\"toc-item-num\">11&nbsp;&nbsp;</span>Plusieurs projets</a></span></li></ul></div>"
   ]
  },
  {
   "cell_type": "markdown",
   "id": "4f614884",
   "metadata": {},
   "source": [
    "### Fini le cours"
   ]
  },
  {
   "cell_type": "markdown",
   "id": "6c91dbf1",
   "metadata": {},
   "source": [
    "Faut-il avoir fini les cours sur la plateforme avant d'envoyer le Capstone project? Ou bien nous pouvons les finir après ?"
   ]
  },
  {
   "cell_type": "markdown",
   "id": "1db56d8b",
   "metadata": {},
   "source": [
    "Non, on peut l envoyer avant finir le cours\n",
    "\n",
    "Dans ce cas la, on aura jusqu a 6 aout pour profiter les cours dans la plateforme"
   ]
  },
  {
   "cell_type": "code",
   "execution_count": null,
   "id": "728a3e21",
   "metadata": {},
   "outputs": [],
   "source": []
  },
  {
   "cell_type": "markdown",
   "id": "945b0f20",
   "metadata": {},
   "source": [
    "### Feedback?"
   ]
  },
  {
   "cell_type": "markdown",
   "id": "511dec94",
   "metadata": {},
   "source": [
    "Lorsqu'on envoie le projet est-ce qu'on peut avoir votre feedback sur les ameliorations qu'on peut accorder a notre projet?"
   ]
  },
  {
   "cell_type": "markdown",
   "id": "bdf2a884",
   "metadata": {},
   "source": [
    "Il y aura pas de feedback individualisé pour le projet, mais vous aller recevoir la certification d’IBM"
   ]
  },
  {
   "cell_type": "code",
   "execution_count": null,
   "id": "9c6ebef0",
   "metadata": {},
   "outputs": [],
   "source": []
  },
  {
   "cell_type": "markdown",
   "id": "bc8b659a",
   "metadata": {},
   "source": [
    "### Quiz"
   ]
  },
  {
   "cell_type": "markdown",
   "id": "88b9e950",
   "metadata": {},
   "source": [
    "Faire les quiz est obligatoire pour passer le cours?"
   ]
  },
  {
   "cell_type": "markdown",
   "id": "92006bf3",
   "metadata": {},
   "source": [
    "Oui, les quiz du fin des modules"
   ]
  },
  {
   "cell_type": "code",
   "execution_count": null,
   "id": "46a3cfcc",
   "metadata": {},
   "outputs": [],
   "source": []
  },
  {
   "cell_type": "markdown",
   "id": "d636e470",
   "metadata": {},
   "source": [
    "### Note minimale"
   ]
  },
  {
   "cell_type": "markdown",
   "id": "c1bb9dff",
   "metadata": {},
   "source": [
    "Il y a t il une \"note\" minimale pour recevoir la certification?"
   ]
  },
  {
   "cell_type": "markdown",
   "id": "42970033",
   "metadata": {},
   "source": [
    "Bien sur, il faut faire un travail minimum. On a pas besoin de tout faire parfaitement. Pas de note numerique"
   ]
  },
  {
   "cell_type": "code",
   "execution_count": null,
   "id": "e6548ae6",
   "metadata": {},
   "outputs": [],
   "source": []
  },
  {
   "cell_type": "markdown",
   "id": "7a9fc273",
   "metadata": {},
   "source": [
    "### Temps estimé"
   ]
  },
  {
   "cell_type": "markdown",
   "id": "0a01c450",
   "metadata": {},
   "source": [
    "Qu'il est le temps estime pour realiser le projet ?"
   ]
  },
  {
   "cell_type": "markdown",
   "id": "48ad72d5",
   "metadata": {},
   "source": [
    "5-20h"
   ]
  },
  {
   "cell_type": "code",
   "execution_count": null,
   "id": "450ce3f3",
   "metadata": {},
   "outputs": [],
   "source": []
  },
  {
   "cell_type": "markdown",
   "id": "bcd53cef",
   "metadata": {},
   "source": [
    "### Finalisation"
   ]
  },
  {
   "cell_type": "markdown",
   "id": "8dec3ef1",
   "metadata": {},
   "source": [
    "J'avais fait une autre formation avant IBMSkillbus, je fais le projet pour avoir la certification, il faut ABSOLUMENT avoir fini tous les videos pour l'avoir?"
   ]
  },
  {
   "cell_type": "markdown",
   "id": "acbf7f1c",
   "metadata": {},
   "source": [
    "Oui, sauf:\n",
    " - Machine Learning\n",
    " - Power BI"
   ]
  },
  {
   "cell_type": "code",
   "execution_count": null,
   "id": "2e752f8d",
   "metadata": {},
   "outputs": [],
   "source": []
  },
  {
   "cell_type": "markdown",
   "id": "3ecde78b",
   "metadata": {},
   "source": [
    "### Viz 5c"
   ]
  },
  {
   "cell_type": "markdown",
   "id": "84108417",
   "metadata": {},
   "source": [
    "Pour la tache 5c, quelles types de visualisations vous recommendez c'est a dire quel diagramme?"
   ]
  },
  {
   "cell_type": "markdown",
   "id": "6918dbe4",
   "metadata": {},
   "source": [
    "- histogram\n",
    "- counplot\n",
    "- counplot avec hue\n",
    "- scatterplot\n",
    "- ..."
   ]
  },
  {
   "cell_type": "code",
   "execution_count": 1,
   "id": "0b8534f4",
   "metadata": {},
   "outputs": [],
   "source": [
    "import pandas as pd"
   ]
  },
  {
   "cell_type": "code",
   "execution_count": 2,
   "id": "276de96b",
   "metadata": {},
   "outputs": [
    {
     "name": "stderr",
     "output_type": "stream",
     "text": [
      "/tmp/ipykernel_7563/2982301717.py:1: DtypeWarning: Columns (25) have mixed types. Specify dtype option on import or set low_memory=False.\n",
      "  df = pd.read_csv(\"../datasets/Airbnb_Open_Data.csv\")\n"
     ]
    }
   ],
   "source": [
    "df = pd.read_csv(\"../datasets/Airbnb_Open_Data.csv\")"
   ]
  },
  {
   "cell_type": "code",
   "execution_count": 3,
   "id": "624bf1d7",
   "metadata": {},
   "outputs": [
    {
     "data": {
      "text/plain": [
       "(102599, 26)"
      ]
     },
     "execution_count": 3,
     "metadata": {},
     "output_type": "execute_result"
    }
   ],
   "source": [
    "df.shape"
   ]
  },
  {
   "cell_type": "code",
   "execution_count": 4,
   "id": "cbf0b9a4",
   "metadata": {},
   "outputs": [
    {
     "data": {
      "text/plain": [
       "Index(['id', 'NAME', 'host id', 'host_identity_verified', 'host name',\n",
       "       'neighbourhood group', 'neighbourhood', 'lat', 'long', 'country',\n",
       "       'country code', 'instant_bookable', 'cancellation_policy', 'room type',\n",
       "       'Construction year', 'price', 'service fee', 'minimum nights',\n",
       "       'number of reviews', 'last review', 'reviews per month',\n",
       "       'review rate number', 'calculated host listings count',\n",
       "       'availability 365', 'house_rules', 'license'],\n",
       "      dtype='object')"
      ]
     },
     "execution_count": 4,
     "metadata": {},
     "output_type": "execute_result"
    }
   ],
   "source": [
    "df.columns"
   ]
  },
  {
   "cell_type": "code",
   "execution_count": 5,
   "id": "ff662be5",
   "metadata": {},
   "outputs": [
    {
     "data": {
      "text/plain": [
       "['number of reviews', 'last review', 'reviews per month', 'review rate number']"
      ]
     },
     "execution_count": 5,
     "metadata": {},
     "output_type": "execute_result"
    }
   ],
   "source": [
    "[colname for colname in df.columns if \"rev\" in colname]"
   ]
  },
  {
   "cell_type": "code",
   "execution_count": 6,
   "id": "da0eaa10",
   "metadata": {},
   "outputs": [],
   "source": [
    "df_review = df[['number of reviews', 'last review', 'reviews per month', 'review rate number']]"
   ]
  },
  {
   "cell_type": "code",
   "execution_count": 7,
   "id": "54b1c5c9",
   "metadata": {},
   "outputs": [
    {
     "data": {
      "text/plain": [
       "(102599, 4)"
      ]
     },
     "execution_count": 7,
     "metadata": {},
     "output_type": "execute_result"
    }
   ],
   "source": [
    "df_review.shape"
   ]
  },
  {
   "cell_type": "code",
   "execution_count": 8,
   "id": "58f4ae00",
   "metadata": {},
   "outputs": [
    {
     "data": {
      "text/html": [
       "<div>\n",
       "<style scoped>\n",
       "    .dataframe tbody tr th:only-of-type {\n",
       "        vertical-align: middle;\n",
       "    }\n",
       "\n",
       "    .dataframe tbody tr th {\n",
       "        vertical-align: top;\n",
       "    }\n",
       "\n",
       "    .dataframe thead th {\n",
       "        text-align: right;\n",
       "    }\n",
       "</style>\n",
       "<table border=\"1\" class=\"dataframe\">\n",
       "  <thead>\n",
       "    <tr style=\"text-align: right;\">\n",
       "      <th></th>\n",
       "      <th>number of reviews</th>\n",
       "      <th>last review</th>\n",
       "      <th>reviews per month</th>\n",
       "      <th>review rate number</th>\n",
       "    </tr>\n",
       "  </thead>\n",
       "  <tbody>\n",
       "    <tr>\n",
       "      <th>0</th>\n",
       "      <td>9.0</td>\n",
       "      <td>10/19/2021</td>\n",
       "      <td>0.21</td>\n",
       "      <td>4.0</td>\n",
       "    </tr>\n",
       "    <tr>\n",
       "      <th>1</th>\n",
       "      <td>45.0</td>\n",
       "      <td>5/21/2022</td>\n",
       "      <td>0.38</td>\n",
       "      <td>4.0</td>\n",
       "    </tr>\n",
       "    <tr>\n",
       "      <th>2</th>\n",
       "      <td>0.0</td>\n",
       "      <td>NaN</td>\n",
       "      <td>NaN</td>\n",
       "      <td>5.0</td>\n",
       "    </tr>\n",
       "    <tr>\n",
       "      <th>3</th>\n",
       "      <td>270.0</td>\n",
       "      <td>7/5/2019</td>\n",
       "      <td>4.64</td>\n",
       "      <td>4.0</td>\n",
       "    </tr>\n",
       "    <tr>\n",
       "      <th>4</th>\n",
       "      <td>9.0</td>\n",
       "      <td>11/19/2018</td>\n",
       "      <td>0.10</td>\n",
       "      <td>3.0</td>\n",
       "    </tr>\n",
       "  </tbody>\n",
       "</table>\n",
       "</div>"
      ],
      "text/plain": [
       "   number of reviews last review  reviews per month  review rate number\n",
       "0                9.0  10/19/2021               0.21                 4.0\n",
       "1               45.0   5/21/2022               0.38                 4.0\n",
       "2                0.0         NaN                NaN                 5.0\n",
       "3              270.0    7/5/2019               4.64                 4.0\n",
       "4                9.0  11/19/2018               0.10                 3.0"
      ]
     },
     "execution_count": 8,
     "metadata": {},
     "output_type": "execute_result"
    }
   ],
   "source": [
    "df_review.head()"
   ]
  },
  {
   "cell_type": "code",
   "execution_count": 9,
   "id": "09b7c608",
   "metadata": {},
   "outputs": [],
   "source": [
    "import seaborn as sns"
   ]
  },
  {
   "cell_type": "code",
   "execution_count": 11,
   "id": "3c0866b3",
   "metadata": {},
   "outputs": [
    {
     "data": {
      "text/plain": [
       "<AxesSubplot: xlabel='review rate number', ylabel='count'>"
      ]
     },
     "execution_count": 11,
     "metadata": {},
     "output_type": "execute_result"
    },
    {
     "data": {
      "image/png": "[encoded data removed]",
      "text/plain": [
       "<Figure size 640x480 with 1 Axes>"
      ]
     },
     "metadata": {},
     "output_type": "display_data"
    }
   ],
   "source": [
    "sns.countplot(x=df_review[\"review rate number\"], palette=\"Greens\")"
   ]
  },
  {
   "cell_type": "code",
   "execution_count": null,
   "id": "7cc415f2",
   "metadata": {},
   "outputs": [],
   "source": []
  },
  {
   "cell_type": "markdown",
   "id": "15e27acd",
   "metadata": {},
   "source": [
    "### Erreur 5c2"
   ]
  },
  {
   "cell_type": "markdown",
   "id": "732006b0",
   "metadata": {},
   "source": [
    "Question originale: Créez une visualisation pour comparer au moins deux variables différentes entre les super-hôtes et les hôtes ordinaires."
   ]
  },
  {
   "cell_type": "markdown",
   "id": "8cc186c3",
   "metadata": {},
   "source": [
    "Question nouvelle: Créez une visualisation pour comparer au moins deux variables différentes entre les hôtes verifiés et pas verifiés"
   ]
  },
  {
   "cell_type": "markdown",
   "id": "b36426df",
   "metadata": {},
   "source": [
    "column `host_identity_verified`"
   ]
  },
  {
   "cell_type": "code",
   "execution_count": 13,
   "id": "43264979",
   "metadata": {},
   "outputs": [
    {
     "data": {
      "text/plain": [
       "unconfirmed    51200\n",
       "verified       51110\n",
       "Name: host_identity_verified, dtype: int64"
      ]
     },
     "execution_count": 13,
     "metadata": {},
     "output_type": "execute_result"
    }
   ],
   "source": [
    "df.host_identity_verified.value_counts()"
   ]
  },
  {
   "cell_type": "code",
   "execution_count": 17,
   "id": "d921cd38",
   "metadata": {},
   "outputs": [
    {
     "data": {
      "text/plain": [
       "<AxesSubplot: xlabel='review rate number', ylabel='count'>"
      ]
     },
     "execution_count": 17,
     "metadata": {},
     "output_type": "execute_result"
    },
    {
     "data": {
      "image/png": "[encoded data removed]",
      "text/plain": [
       "<Figure size 640x480 with 1 Axes>"
      ]
     },
     "metadata": {},
     "output_type": "display_data"
    }
   ],
   "source": [
    "sns.countplot(x=df[\"review rate number\"], hue=df.host_identity_verified)"
   ]
  },
  {
   "cell_type": "code",
   "execution_count": null,
   "id": "ccee6248",
   "metadata": {},
   "outputs": [],
   "source": []
  },
  {
   "cell_type": "markdown",
   "id": "796ece2c",
   "metadata": {},
   "source": [
    "### Seulement Python?"
   ]
  },
  {
   "cell_type": "markdown",
   "id": "318c5bf1",
   "metadata": {},
   "source": [
    "Peut on faire le projet uniquement avec python?"
   ]
  },
  {
   "cell_type": "markdown",
   "id": "81cbb0a1",
   "metadata": {},
   "source": [
    "Oui"
   ]
  },
  {
   "cell_type": "code",
   "execution_count": null,
   "id": "f90e948c",
   "metadata": {},
   "outputs": [],
   "source": []
  },
  {
   "cell_type": "markdown",
   "id": "517ceaff",
   "metadata": {},
   "source": [
    "### Quelques / un outil?"
   ]
  },
  {
   "cell_type": "markdown",
   "id": "f3fcb51c",
   "metadata": {},
   "source": [
    "Pour la partie 5 ou il y a la visualisation, est-ce que vous recommendez qu'on utilise un seul moyen soit python, tableau... ou bien on varie les outils?"
   ]
  },
  {
   "cell_type": "markdown",
   "id": "305e9247",
   "metadata": {},
   "source": [
    "Pour le projec, un outil suffit. Pour soi meme, c est super de pratiquer plusieurs outils"
   ]
  },
  {
   "cell_type": "code",
   "execution_count": null,
   "id": "89372e0a",
   "metadata": {},
   "outputs": [],
   "source": []
  },
  {
   "cell_type": "markdown",
   "id": "09958534",
   "metadata": {},
   "source": [
    "### Plusieurs projets"
   ]
  },
  {
   "cell_type": "markdown",
   "id": "e3befbbd",
   "metadata": {},
   "source": [
    "Peut on si on le souhaite envoyer 3 versions du projet ? Un complètement en python. le 2e en python + tableau et le 3e en python + powerbi?"
   ]
  },
  {
   "cell_type": "markdown",
   "id": "3da5e1bd",
   "metadata": {},
   "source": [
    "Non, un seul projet par personne"
   ]
  },
  {
   "cell_type": "code",
   "execution_count": null,
   "id": "f82d72f2",
   "metadata": {},
   "outputs": [],
   "source": []
  }
 ],
 "metadata": {
  "kernelspec": {
   "display_name": "Python 3 (ipykernel)",
   "language": "python",
   "name": "python3"
  },
  "language_info": {
   "codemirror_mode": {
    "name": "ipython",
    "version": 3
   },
   "file_extension": ".py",
   "mimetype": "text/x-python",
   "name": "python",
   "nbconvert_exporter": "python",
   "pygments_lexer": "ipython3",
   "version": "3.10.6"
  },
  "toc": {
   "base_numbering": 1,
   "nav_menu": {},
   "number_sections": true,
   "sideBar": true,
   "skip_h1_title": true,
   "title_cell": "Table of Contents",
   "title_sidebar": "Contents",
   "toc_cell": true,
   "toc_position": {},
   "toc_section_display": true,
   "toc_window_display": false
  },
  "varInspector": {
   "cols": {
    "lenName": 16,
    "lenType": 16,
    "lenVar": 40
   },
   "kernels_config": {
    "python": {
     "delete_cmd_postfix": "",
     "delete_cmd_prefix": "del ",
     "library": "var_list.py",
     "varRefreshCmd": "print(var_dic_list())"
    },
    "r": {
     "delete_cmd_postfix": ") ",
     "delete_cmd_prefix": "rm(",
     "library": "var_list.r",
     "varRefreshCmd": "cat(var_dic_list()) "
    }
   },
   "types_to_exclude": [
    "module",
    "function",
    "builtin_function_or_method",
    "instance",
    "_Feature"
   ],
   "window_display": false
  }
 },
 "nbformat": 4,
 "nbformat_minor": 5
}
